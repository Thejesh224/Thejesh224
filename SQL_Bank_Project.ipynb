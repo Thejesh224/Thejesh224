{
  "nbformat": 4,
  "nbformat_minor": 0,
  "metadata": {
    "colab": {
      "provenance": [],
      "authorship_tag": "ABX9TyNgex6L/PDiA/6kwQrN7kWY",
      "include_colab_link": true
    },
    "kernelspec": {
      "name": "python3",
      "display_name": "Python 3"
    },
    "language_info": {
      "name": "python"
    }
  },
  "cells": [
    {
      "cell_type": "markdown",
      "metadata": {
        "id": "view-in-github",
        "colab_type": "text"
      },
      "source": [
        "<a href=\"https://colab.research.google.com/github/Thejesh224/Thejesh224/blob/main/SQL_Bank_Project.ipynb\" target=\"_parent\"><img src=\"https://colab.research.google.com/assets/colab-badge.svg\" alt=\"Open In Colab\"/></a>"
      ]
    },
    {
      "cell_type": "code",
      "execution_count": null,
      "metadata": {
        "colab": {
          "base_uri": "https://localhost:8080/"
        },
        "id": "2IqK_AnhjpYZ",
        "outputId": "b50d01e9-16b5-418c-8d32-f9fc43bd797e"
      },
      "outputs": [
        {
          "output_type": "stream",
          "name": "stdout",
          "text": [
            "Mounted at /content/drive\n"
          ]
        }
      ],
      "source": [
        "from google.colab import drive\n",
        "drive.mount('/content/drive')"
      ]
    },
    {
      "cell_type": "code",
      "source": [
        "!apt-get install sqlite3\n",
        "!pip install pandas"
      ],
      "metadata": {
        "colab": {
          "base_uri": "https://localhost:8080/"
        },
        "id": "IZx_57Mljsvr",
        "outputId": "5d291c47-4eec-440b-9cd5-4c571d0c2cd9"
      },
      "execution_count": null,
      "outputs": [
        {
          "output_type": "stream",
          "name": "stdout",
          "text": [
            "Reading package lists... Done\n",
            "Building dependency tree... Done\n",
            "Reading state information... Done\n",
            "Suggested packages:\n",
            "  sqlite3-doc\n",
            "The following NEW packages will be installed:\n",
            "  sqlite3\n",
            "0 upgraded, 1 newly installed, 0 to remove and 35 not upgraded.\n",
            "Need to get 769 kB of archives.\n",
            "After this operation, 1,874 kB of additional disk space will be used.\n",
            "Get:1 http://archive.ubuntu.com/ubuntu jammy-updates/main amd64 sqlite3 amd64 3.37.2-2ubuntu0.5 [769 kB]\n",
            "Fetched 769 kB in 1s (811 kB/s)\n",
            "Selecting previously unselected package sqlite3.\n",
            "(Reading database ... 126374 files and directories currently installed.)\n",
            "Preparing to unpack .../sqlite3_3.37.2-2ubuntu0.5_amd64.deb ...\n",
            "Unpacking sqlite3 (3.37.2-2ubuntu0.5) ...\n",
            "Setting up sqlite3 (3.37.2-2ubuntu0.5) ...\n",
            "Processing triggers for man-db (2.10.2-1) ...\n",
            "Requirement already satisfied: pandas in /usr/local/lib/python3.12/dist-packages (2.2.2)\n",
            "Requirement already satisfied: numpy>=1.26.0 in /usr/local/lib/python3.12/dist-packages (from pandas) (2.0.2)\n",
            "Requirement already satisfied: python-dateutil>=2.8.2 in /usr/local/lib/python3.12/dist-packages (from pandas) (2.9.0.post0)\n",
            "Requirement already satisfied: pytz>=2020.1 in /usr/local/lib/python3.12/dist-packages (from pandas) (2025.2)\n",
            "Requirement already satisfied: tzdata>=2022.7 in /usr/local/lib/python3.12/dist-packages (from pandas) (2025.2)\n",
            "Requirement already satisfied: six>=1.5 in /usr/local/lib/python3.12/dist-packages (from python-dateutil>=2.8.2->pandas) (1.17.0)\n"
          ]
        }
      ]
    },
    {
      "cell_type": "code",
      "source": [
        "import sqlite3\n",
        "import pandas as pd\n",
        "import os"
      ],
      "metadata": {
        "id": "1h75uO9Qjxql"
      },
      "execution_count": null,
      "outputs": []
    },
    {
      "cell_type": "code",
      "source": [
        "conn = sqlite3.connect(\"my_database.db\")"
      ],
      "metadata": {
        "id": "eCH-qeWTj_uP"
      },
      "execution_count": null,
      "outputs": []
    },
    {
      "cell_type": "code",
      "source": [
        "#define the correct path for database\n",
        "db_Path=\"/content/drive/MyDrive/my_database.db\""
      ],
      "metadata": {
        "id": "Nqy0y0LrlZYw"
      },
      "execution_count": null,
      "outputs": []
    },
    {
      "cell_type": "code",
      "source": [
        "db_folder=\"/content/drive/MyDrive/Thejesh_Project folder\"\n",
        "os.makedirs(db_folder , exist_ok=True) #ensure the folder exists\n",
        "db_path=os.path.join(db_folder,\"my_database.db\")\n",
        "\n",
        "\n",
        "conn=sqlite3.connect(db_path)\n",
        "cursor=conn.cursor()\n",
        "\n",
        "\n",
        "print(\"Database connected at:\",db_path)"
      ],
      "metadata": {
        "id": "I0iXKr3rkW_W",
        "colab": {
          "base_uri": "https://localhost:8080/"
        },
        "outputId": "f0f6a50d-1251-40c2-dc30-2df6b8f19a9f"
      },
      "execution_count": null,
      "outputs": [
        {
          "output_type": "stream",
          "name": "stdout",
          "text": [
            "Database connected at: /content/drive/MyDrive/Thejesh_Project folder/my_database.db\n"
          ]
        }
      ]
    },
    {
      "cell_type": "markdown",
      "source": [
        "**Customer table**"
      ],
      "metadata": {
        "id": "H-4zg4iIl0-I"
      }
    },
    {
      "cell_type": "code",
      "source": [
        "cursor.execute('''\n",
        "CREATE TABLE CUSTOMERS ( customer_id INT ,\n",
        "             \tcustomer_name VARCHAR(20),\n",
        "             \tAddress \tVARCHAR(20),\n",
        "             \tstate_code  VARCHAR(3) ,\n",
        "             \tTelephone   VARCHAR(10)\t);\n",
        "\n",
        "''')\n",
        "conn.commit()"
      ],
      "metadata": {
        "id": "jY1U4Xorl3-C"
      },
      "execution_count": null,
      "outputs": []
    },
    {
      "cell_type": "code",
      "source": [
        "def INSERT_CUSTOMERS(CUSTOMER_ID,CUSTOMER_NAME,ADDRESS,STATE_CODE,TELEPHONE):\n",
        "  cursor.execute(\"INSERT INTO CUSTOMERS(CUSTOMER_ID,CUSTOMER_NAME,ADDRESS,STATE_CODE,TELEPHONE) VALUES(?,?,?,?,?)\",\n",
        "   (CUSTOMER_ID,CUSTOMER_NAME,ADDRESS,STATE_CODE,TELEPHONE))\n",
        "  conn.commit()\n",
        "#INSERT1\n",
        "INSERT_CUSTOMERS(123001,\"UDAY\", \"225-5, Emeryville\", \"CA\" , \"1897614500\")\n",
        "INSERT_CUSTOMERS(123002,\"VAMSI\", \"194-6,New brighton\",\"MN\" , \"1897617000\")\n",
        "INSERT_CUSTOMERS(123003,\"RITHIKA\", \"2909-5,walnut creek\",\"CA\" , \"1897617866\")\n",
        "INSERT_CUSTOMERS(123004,\"JYOTHI\", \"229-5, Concord\",  \t\"CA\" , \"1897627999\")\n",
        "INSERT_CUSTOMERS(123005,\"THARUN\", \"325-7, Mission Dist\",\"SFO\", \"1897637000\")\n",
        "INSERT_CUSTOMERS(123006,\"JYOTHISWAR\", \"275-9, saint-paul\" ,  \"MN\" , \"1897613200\")\n",
        "INSERT_CUSTOMERS(123007,\"URVISH\",\"125-1,Richfield\",   \"MN\" , \"1897617666\")\n",
        "INSERT_CUSTOMERS(123008,\"LOHITH KARITHIK\",\"3005-1,Heathrow\", \t\"NY\" , \"1897614000\")"
      ],
      "metadata": {
        "id": "C1xwOWuImJr-"
      },
      "execution_count": null,
      "outputs": []
    },
    {
      "cell_type": "code",
      "source": [
        "pip install tabulate"
      ],
      "metadata": {
        "colab": {
          "base_uri": "https://localhost:8080/"
        },
        "id": "s3pzMDZlmg9e",
        "outputId": "01037d79-5310-4b5c-f948-2cba7158e117"
      },
      "execution_count": null,
      "outputs": [
        {
          "output_type": "stream",
          "name": "stdout",
          "text": [
            "Requirement already satisfied: tabulate in /usr/local/lib/python3.12/dist-packages (0.9.0)\n"
          ]
        }
      ]
    },
    {
      "cell_type": "code",
      "source": [
        "from tabulate import tabulate\n",
        "\n",
        "# fetch the data\n",
        "cursor.execute(\"SELECT * FROM CUSTOMERS \")\n",
        "rows = cursor.fetchall()\n",
        "\n",
        "# get the column names\n",
        "column_names = [desc[0] for desc in cursor.description]\n",
        "\n",
        "# print in tabular format\n",
        "print(tabulate(rows,headers=column_names,tablefmt=\"grid\"))"
      ],
      "metadata": {
        "colab": {
          "base_uri": "https://localhost:8080/"
        },
        "id": "5NL08kRCmltD",
        "outputId": "e259953e-d079-4c6b-fb9e-020bac8cf4ef"
      },
      "execution_count": null,
      "outputs": [
        {
          "output_type": "stream",
          "name": "stdout",
          "text": [
            "+---------------+-----------------+---------------------+--------------+-------------+\n",
            "|   customer_id | customer_name   | Address             | state_code   |   Telephone |\n",
            "+===============+=================+=====================+==============+=============+\n",
            "|        123001 | UDAY            | 225-5, Emeryville   | CA           |  1897614500 |\n",
            "+---------------+-----------------+---------------------+--------------+-------------+\n",
            "|        123002 | VAMSI           | 194-6,New brighton  | MN           |  1897617000 |\n",
            "+---------------+-----------------+---------------------+--------------+-------------+\n",
            "|        123003 | RITHIKA         | 2909-5,walnut creek | CA           |  1897617866 |\n",
            "+---------------+-----------------+---------------------+--------------+-------------+\n",
            "|        123004 | JYOTHI          | 229-5, Concord      | CA           |  1897627999 |\n",
            "+---------------+-----------------+---------------------+--------------+-------------+\n",
            "|        123005 | THARUN          | 325-7, Mission Dist | SFO          |  1897637000 |\n",
            "+---------------+-----------------+---------------------+--------------+-------------+\n",
            "|        123006 | JYOTHISWAR      | 275-9, saint-paul   | MN           |  1897613200 |\n",
            "+---------------+-----------------+---------------------+--------------+-------------+\n",
            "|        123007 | URVISH          | 125-1,Richfield     | MN           |  1897617666 |\n",
            "+---------------+-----------------+---------------------+--------------+-------------+\n",
            "|        123008 | LOHITH KARITHIK | 3005-1,Heathrow     | NY           |  1897614000 |\n",
            "+---------------+-----------------+---------------------+--------------+-------------+\n"
          ]
        }
      ]
    },
    {
      "cell_type": "markdown",
      "source": [
        "**Bank Customer Export Table**"
      ],
      "metadata": {
        "id": "46glQpCDmul0"
      }
    },
    {
      "cell_type": "code",
      "source": [
        "cursor.execute('''\n",
        "CREATE TABLE BANK_CUSTOMER_EXPORTER ( customer_id CHAR(10),\n",
        "customer_name CHAR(20),\n",
        "Address CHAR(20),\n",
        "state_code  CHAR(3) ,\n",
        "Telephone  CHAR(10));\n",
        "''')\n",
        "conn.commit()"
      ],
      "metadata": {
        "id": "sn8fFy9Bmq8Y"
      },
      "execution_count": null,
      "outputs": []
    },
    {
      "cell_type": "code",
      "source": [
        "cursor.execute(\"INSERT INTO BANK_CUSTOMER_EXPORTER VALUES (\\\"123001 \\\",\\\"UDAY\\\", \\\"225-5, Emeryville\\\", \\\"CA\\\" , \\\"1897614500\\\")\")\n",
        "cursor.execute(\"INSERT INTO BANK_CUSTOMER_EXPORTER VALUES (\\\"123002 \\\",\\\"VAMSI\\\", \\\"194-6,New brighton\\\",\\\"MN\\\" , \\\"189761700\\\")\")\n",
        "conn.commit()"
      ],
      "metadata": {
        "id": "131rDRXcm8zQ"
      },
      "execution_count": null,
      "outputs": []
    },
    {
      "cell_type": "code",
      "source": [
        "from tabulate import tabulate\n",
        "\n",
        "cursor.execute(\"SELECT * FROM BANK_CUSTOMER_EXPORTER \")\n",
        "rows = cursor.fetchall()\n",
        "column_names = [desc[0] for desc in cursor.description]\n",
        "\n",
        "print(tabulate(rows,headers=column_names,tablefmt=\"grid\"))"
      ],
      "metadata": {
        "colab": {
          "base_uri": "https://localhost:8080/"
        },
        "id": "CY6tcvhWnASQ",
        "outputId": "904dec15-e04d-4c91-8a14-03f9f5ef5062"
      },
      "execution_count": null,
      "outputs": [
        {
          "output_type": "stream",
          "name": "stdout",
          "text": [
            "+---------------+-----------------+--------------------+--------------+-------------+\n",
            "|   customer_id | customer_name   | Address            | state_code   |   Telephone |\n",
            "+===============+=================+====================+==============+=============+\n",
            "|       123001  | UDAY            | 225-5, Emeryville  | CA           |  1897614500 |\n",
            "+---------------+-----------------+--------------------+--------------+-------------+\n",
            "|       123002  | VAMSI           | 194-6,New brighton | MN           |   189761700 |\n",
            "+---------------+-----------------+--------------------+--------------+-------------+\n"
          ]
        }
      ]
    },
    {
      "cell_type": "markdown",
      "source": [
        "**BANK ACCOUNT DETAILS TABLE**"
      ],
      "metadata": {
        "id": "TUTkyavvnpWU"
      }
    },
    {
      "cell_type": "code",
      "source": [
        "cursor.execute('''\n",
        "CREATE TABLE Bank_Account_Detail(Customer_id INT,\n",
        "                                Account_Number VARCHAR(19),\n",
        "                                Account_type VARCHAR(25),\n",
        "                                    Balance_amount INT,\n",
        "                                Account_status VARCHAR(10),\n",
        "                                Relationship_type varchar(1) ) ;\n",
        "''')\n",
        "conn.commit()"
      ],
      "metadata": {
        "id": "bQ8xaeGinloM"
      },
      "execution_count": null,
      "outputs": []
    },
    {
      "cell_type": "code",
      "source": [
        "cursor.execute(\"INSERT INTO Bank_Account_Detail  VALUES (123001, '4000-1956-3456',  'SAVINGS' , 200000 ,'ACTIVE','P')\")\n",
        "cursor.execute(\"INSERT INTO Bank_Account_Detail  VALUES (123001, '5000-1700-3456', 'RECURRING DEPOSITS' ,9400000 ,'ACTIVE','S')\")\n",
        "cursor.execute(\"INSERT INTO Bank_Account_Detail  VALUES (123002, '4000-1956-2001',  'SAVINGS', 400000 ,'ACTIVE','P')\")\n",
        "cursor.execute(\"INSERT INTO Bank_Account_Detail  VALUES (123002, '5000-1700-5001',  'RECURRING DEPOSITS' ,7500000 ,'ACTIVE','S')\")\n",
        "cursor.execute(\"INSERT INTO Bank_Account_Detail  VALUES (123003, '4000-1956-2900',  'SAVINGS' ,750000,'INACTIVE','P')\")\n",
        "cursor.execute(\"INSERT INTO Bank_Account_Detail  VALUES (123004, '5000-1700-6091', 'RECURRING DEPOSITS' ,7500000 ,'ACTIVE','S')\")\n",
        "cursor.execute(\"INSERT INTO Bank_Account_Detail  VALUES (123004, '4000-1956-3401',  'SAVINGS' , 655000 ,'ACTIVE','P')\")\n",
        "cursor.execute(\"INSERT INTO Bank_Account_Detail  VALUES (123005, '4000-1956-5102',  'SAVINGS' , 300000 ,'ACTIVE','P')\")\n",
        "cursor.execute(\"INSERT INTO Bank_Account_Detail  VALUES (123006, '4000-1956-5698',  'SAVINGS' , 455000 ,'ACTIVE' ,'P')\")\n",
        "cursor.execute(\"INSERT INTO Bank_Account_Detail  VALUES (123007, '5000-1700-9800',  'SAVINGS' , 355000 ,'ACTIVE' ,'P')\")\n",
        "cursor.execute(\"INSERT INTO Bank_Account_Detail  VALUES (123007, '4000-1956-9977',  'RECURRING DEPOSITS' , 7025000,'ACTIVE' ,'S')\")\n",
        "cursor.execute(\"INSERT INTO Bank_Account_Detail  VALUES (123007, '9000-1700-7777-4321',  'Credit Card' ,0  ,'INACTIVE', 'P')\")\n",
        "cursor.execute(\"INSERT INTO Bank_Account_Detail  VALUES (123007, '5900-1900-9877-5543', 'Add-on Credit Card' ,   0   ,'ACTIVE', 'S')\")\n",
        "cursor.execute(\"INSERT INTO Bank_Account_Detail  VALUES (123008, '5000-1700-7755',  'SAVINGS'          ,0      ,'INACTIVE','P')\")\n",
        "cursor.execute(\"INSERT INTO Bank_Account_Detail  VALUES (123006, '5800-1700-9800-7755', 'Credit Card'   ,0     ,'ACTIVE', 'P')\")\n",
        "cursor.execute(\"INSERT INTO Bank_Account_Detail  VALUES (123006, '5890-1970-7706-8912', 'Add-on Credit Card'   ,0      ,'ACTIVE', 'S')\")\n",
        "conn.commit()"
      ],
      "metadata": {
        "id": "nwylv6if4J0x"
      },
      "execution_count": null,
      "outputs": []
    },
    {
      "cell_type": "code",
      "source": [
        "from tabulate import tabulate\n",
        "\n",
        "cursor.execute(\"SELECT * FROM Bank_Account_Detail\")\n",
        "rows = cursor.fetchall()\n",
        "column_names = [desc[0] for desc in cursor.description]\n",
        "\n",
        "print(tabulate(rows,headers=column_names,tablefmt=\"grid\"))"
      ],
      "metadata": {
        "colab": {
          "base_uri": "https://localhost:8080/"
        },
        "id": "Ev9qRnH_oHiy",
        "outputId": "e58ef2c7-87fd-408b-97f6-cebef9d97f66"
      },
      "execution_count": null,
      "outputs": [
        {
          "output_type": "stream",
          "name": "stdout",
          "text": [
            "+---------------+---------------------+--------------------+------------------+------------------+---------------------+\n",
            "|   Customer_id | Account_Number      | Account_type       |   Balance_amount | Account_status   | Relationship_type   |\n",
            "+===============+=====================+====================+==================+==================+=====================+\n",
            "|        123001 | 4000-1956-3456      | SAVINGS            |           200000 | ACTIVE           | P                   |\n",
            "+---------------+---------------------+--------------------+------------------+------------------+---------------------+\n",
            "|        123001 | 5000-1700-3456      | RECURRING DEPOSITS |          9400000 | ACTIVE           | S                   |\n",
            "+---------------+---------------------+--------------------+------------------+------------------+---------------------+\n",
            "|        123002 | 4000-1956-2001      | SAVINGS            |           400000 | ACTIVE           | P                   |\n",
            "+---------------+---------------------+--------------------+------------------+------------------+---------------------+\n",
            "|        123002 | 5000-1700-5001      | RECURRING DEPOSITS |          7500000 | ACTIVE           | S                   |\n",
            "+---------------+---------------------+--------------------+------------------+------------------+---------------------+\n",
            "|        123003 | 4000-1956-2900      | SAVINGS            |           750000 | INACTIVE         | P                   |\n",
            "+---------------+---------------------+--------------------+------------------+------------------+---------------------+\n",
            "|        123004 | 5000-1700-6091      | RECURRING DEPOSITS |          7500000 | ACTIVE           | S                   |\n",
            "+---------------+---------------------+--------------------+------------------+------------------+---------------------+\n",
            "|        123004 | 4000-1956-3401      | SAVINGS            |           655000 | ACTIVE           | P                   |\n",
            "+---------------+---------------------+--------------------+------------------+------------------+---------------------+\n",
            "|        123005 | 4000-1956-5102      | SAVINGS            |           300000 | ACTIVE           | P                   |\n",
            "+---------------+---------------------+--------------------+------------------+------------------+---------------------+\n",
            "|        123006 | 4000-1956-5698      | SAVINGS            |           455000 | ACTIVE           | P                   |\n",
            "+---------------+---------------------+--------------------+------------------+------------------+---------------------+\n",
            "|        123007 | 5000-1700-9800      | SAVINGS            |           355000 | ACTIVE           | P                   |\n",
            "+---------------+---------------------+--------------------+------------------+------------------+---------------------+\n",
            "|        123007 | 4000-1956-9977      | RECURRING DEPOSITS |          7025000 | ACTIVE           | S                   |\n",
            "+---------------+---------------------+--------------------+------------------+------------------+---------------------+\n",
            "|        123007 | 9000-1700-7777-4321 | Credit Card        |                0 | INACTIVE         | P                   |\n",
            "+---------------+---------------------+--------------------+------------------+------------------+---------------------+\n",
            "|        123007 | 5900-1900-9877-5543 | Add-on Credit Card |                0 | ACTIVE           | S                   |\n",
            "+---------------+---------------------+--------------------+------------------+------------------+---------------------+\n",
            "|        123008 | 5000-1700-7755      | SAVINGS            |                0 | INACTIVE         | P                   |\n",
            "+---------------+---------------------+--------------------+------------------+------------------+---------------------+\n",
            "|        123006 | 5800-1700-9800-7755 | Credit Card        |                0 | ACTIVE           | P                   |\n",
            "+---------------+---------------------+--------------------+------------------+------------------+---------------------+\n",
            "|        123006 | 5890-1970-7706-8912 | Add-on Credit Card |                0 | ACTIVE           | S                   |\n",
            "+---------------+---------------------+--------------------+------------------+------------------+---------------------+\n"
          ]
        }
      ]
    },
    {
      "cell_type": "markdown",
      "source": [
        "**Bank Account Details Table**"
      ],
      "metadata": {
        "id": "Ivsb0FWdoTTh"
      }
    },
    {
      "cell_type": "code",
      "source": [
        "cursor.execute('''\n",
        "CREATE TABLE Bank_Account_Details(Customer_id INT,\n",
        "                                Account_Number VARCHAR(19),\n",
        "                                Account_type VARCHAR(25),\n",
        "                                    Balance_amount INT,\n",
        "                                Account_status VARCHAR(10),\n",
        "                                Relationship_type varchar(1) ) ;\n",
        "''')\n",
        "conn.commit()"
      ],
      "metadata": {
        "id": "IJHzCPAroXlF"
      },
      "execution_count": null,
      "outputs": []
    },
    {
      "cell_type": "code",
      "source": [
        "cursor.execute(\"INSERT INTO Bank_Account_Details  VALUES (123001, '4000-1956-3456',  'SAVINGS' , 200000 ,'ACTIVE','P')\")\n",
        "cursor.execute(\"INSERT INTO Bank_Account_Details  VALUES (123001, '5000-1700-3456', 'RECURRING DEPOSITS' ,9400000 ,'ACTIVE','S')\")\n",
        "cursor.execute(\"INSERT INTO Bank_Account_Details VALUES (123002, '4000-1956-2001',  'SAVINGS', 400000 ,'ACTIVE','P')\")\n",
        "cursor.execute(\"INSERT INTO Bank_Account_Details  VALUES (123002, '5000-1700-5001',  'RECURRING DEPOSITS' ,7500000 ,'ACTIVE','S')\")\n",
        "cursor.execute(\"INSERT INTO Bank_Account_Details  VALUES (123003, '4000-1956-2900',  'SAVINGS' ,750000,'INACTIVE','P')\")\n",
        "cursor.execute(\"INSERT INTO Bank_Account_Details  VALUES (123004, '5000-1700-6091', 'RECURRING DEPOSITS' ,7500000 ,'ACTIVE','S')\")\n",
        "cursor.execute(\"INSERT INTO Bank_Account_Details  VALUES (123004, '4000-1956-3401',  'SAVINGS' , 655000 ,'ACTIVE','P')\")\n",
        "cursor.execute(\"INSERT INTO Bank_Account_Details  VALUES (123005, '4000-1956-5102',  'SAVINGS' , 300000 ,'ACTIVE','P')\")\n",
        "cursor.execute(\"INSERT INTO Bank_Account_Details  VALUES (123006, '4000-1956-5698',  'SAVINGS' , 455000 ,'ACTIVE' ,'P')\")\n",
        "cursor.execute(\"INSERT INTO Bank_Account_Details  VALUES (123007, '5000-1700-9800',  'SAVINGS' , 355000 ,'ACTIVE' ,'P')\")\n",
        "cursor.execute(\"INSERT INTO Bank_Account_Details  VALUES (123007, '4000-1956-9977',  'RECURRING DEPOSITS' , 7025000,'ACTIVE' ,'S')\")\n",
        "cursor.execute(\"INSERT INTO Bank_Account_Details  VALUES (123007, '9000-1700-7777-4321',  'Credit Card' ,0  ,'INACTIVE', 'P')\")\n",
        "cursor.execute(\"INSERT INTO Bank_Account_Details  VALUES (123007, '5900-1900-9877-5543', 'Add-on Credit Card' ,   0   ,'ACTIVE', 'S')\")\n",
        "cursor.execute(\"INSERT INTO Bank_Account_Details  VALUES (123008, '5000-1700-7755',  'SAVINGS'          ,0      ,'INACTIVE','P')\")\n",
        "cursor.execute(\"INSERT INTO Bank_Account_Details  VALUES (123006, '5800-1700-9800-7755', 'Credit Card'   ,0     ,'ACTIVE', 'P')\")\n",
        "cursor.execute(\"INSERT INTO Bank_Account_Details  VALUES (123006, '5890-1970-7706-8912', 'Add-on Credit Card'   ,0      ,'ACTIVE', 'S')\")\n",
        "conn.commit()"
      ],
      "metadata": {
        "id": "RENLUTkVocZv"
      },
      "execution_count": null,
      "outputs": []
    },
    {
      "cell_type": "code",
      "source": [
        "from tabulate import tabulate\n",
        "\n",
        "cursor.execute(\"SELECT * FROM Bank_Account_Details\")\n",
        "rows = cursor.fetchall()\n",
        "column_names = [desc[0] for desc in cursor.description]\n",
        "\n",
        "print(tabulate(rows,headers=column_names,tablefmt=\"grid\"))"
      ],
      "metadata": {
        "colab": {
          "base_uri": "https://localhost:8080/"
        },
        "id": "Hsoa2YE4ogkf",
        "outputId": "953ea40b-29ee-427d-9170-ec2b537ac60d"
      },
      "execution_count": null,
      "outputs": [
        {
          "output_type": "stream",
          "name": "stdout",
          "text": [
            "+---------------+---------------------+--------------------+------------------+------------------+---------------------+\n",
            "|   Customer_id | Account_Number      | Account_type       |   Balance_amount | Account_status   | Relationship_type   |\n",
            "+===============+=====================+====================+==================+==================+=====================+\n",
            "|        123001 | 4000-1956-3456      | SAVINGS            |           200000 | ACTIVE           | P                   |\n",
            "+---------------+---------------------+--------------------+------------------+------------------+---------------------+\n",
            "|        123001 | 5000-1700-3456      | RECURRING DEPOSITS |          9400000 | ACTIVE           | S                   |\n",
            "+---------------+---------------------+--------------------+------------------+------------------+---------------------+\n",
            "|        123002 | 4000-1956-2001      | SAVINGS            |           400000 | ACTIVE           | P                   |\n",
            "+---------------+---------------------+--------------------+------------------+------------------+---------------------+\n",
            "|        123002 | 5000-1700-5001      | RECURRING DEPOSITS |          7500000 | ACTIVE           | S                   |\n",
            "+---------------+---------------------+--------------------+------------------+------------------+---------------------+\n",
            "|        123003 | 4000-1956-2900      | SAVINGS            |           750000 | INACTIVE         | P                   |\n",
            "+---------------+---------------------+--------------------+------------------+------------------+---------------------+\n",
            "|        123004 | 5000-1700-6091      | RECURRING DEPOSITS |          7500000 | ACTIVE           | S                   |\n",
            "+---------------+---------------------+--------------------+------------------+------------------+---------------------+\n",
            "|        123004 | 4000-1956-3401      | SAVINGS            |           655000 | ACTIVE           | P                   |\n",
            "+---------------+---------------------+--------------------+------------------+------------------+---------------------+\n",
            "|        123005 | 4000-1956-5102      | SAVINGS            |           300000 | ACTIVE           | P                   |\n",
            "+---------------+---------------------+--------------------+------------------+------------------+---------------------+\n",
            "|        123006 | 4000-1956-5698      | SAVINGS            |           455000 | ACTIVE           | P                   |\n",
            "+---------------+---------------------+--------------------+------------------+------------------+---------------------+\n",
            "|        123007 | 5000-1700-9800      | SAVINGS            |           355000 | ACTIVE           | P                   |\n",
            "+---------------+---------------------+--------------------+------------------+------------------+---------------------+\n",
            "|        123007 | 4000-1956-9977      | RECURRING DEPOSITS |          7025000 | ACTIVE           | S                   |\n",
            "+---------------+---------------------+--------------------+------------------+------------------+---------------------+\n",
            "|        123007 | 9000-1700-7777-4321 | Credit Card        |                0 | INACTIVE         | P                   |\n",
            "+---------------+---------------------+--------------------+------------------+------------------+---------------------+\n",
            "|        123007 | 5900-1900-9877-5543 | Add-on Credit Card |                0 | ACTIVE           | S                   |\n",
            "+---------------+---------------------+--------------------+------------------+------------------+---------------------+\n",
            "|        123008 | 5000-1700-7755      | SAVINGS            |                0 | INACTIVE         | P                   |\n",
            "+---------------+---------------------+--------------------+------------------+------------------+---------------------+\n",
            "|        123006 | 5800-1700-9800-7755 | Credit Card        |                0 | ACTIVE           | P                   |\n",
            "+---------------+---------------------+--------------------+------------------+------------------+---------------------+\n",
            "|        123006 | 5890-1970-7706-8912 | Add-on Credit Card |                0 | ACTIVE           | S                   |\n",
            "+---------------+---------------------+--------------------+------------------+------------------+---------------------+\n"
          ]
        }
      ]
    },
    {
      "cell_type": "markdown",
      "source": [
        "**Bank Account Table**"
      ],
      "metadata": {
        "id": "WDpbfZdgo0YU"
      }
    },
    {
      "cell_type": "code",
      "source": [
        "cursor.execute('''\n",
        "CREATE TABLE BANK_ACCOUNTS ( Customer_id INT,\n",
        "\t                Account_Number VARCHAR(19),\n",
        "\t\t     Account_type VARCHAR(25),\n",
        "\t\t     Balance_amount INT ,\n",
        "\t\t\tAccount_status VARCHAR(10), Relation_ship varchar(1) ) ;\n",
        "''')\n",
        "conn.commit()"
      ],
      "metadata": {
        "id": "pwAFjPrPoy8Y"
      },
      "execution_count": null,
      "outputs": []
    },
    {
      "cell_type": "code",
      "source": [
        "cursor.execute(\"INSERT INTO BANK_ACCOUNTS  VALUES (123001, '4000-1956-3456',  'SAVINGS'            , 200000 ,'ACTIVE','P')\")\n",
        "cursor.execute(\"INSERT INTO BANK_ACCOUNTS  VALUES (123001, '5000-1700-3456',  'RECURRING DEPOSITS' ,9400000 ,'ACTIVE','S')\")\n",
        "cursor.execute(\"INSERT INTO BANK_ACCOUNTS  VALUES (123002, '4000-1956-2001',  'SAVINGS'            , 400000 ,'ACTIVE','P')\")\n",
        "cursor.execute(\"INSERT INTO BANK_ACCOUNTS  VALUES (123002, '5000-1700-5001',  'RECURRING DEPOSITS' ,7500000 ,'ACTIVE','S')\")\n",
        "cursor.execute(\"INSERT INTO BANK_ACCOUNTS  VALUES (123003, '4000-1956-2900',  'SAVINGS'            ,750000,'INACTIVE','P')\")\n",
        "cursor.execute(\"INSERT INTO BANK_ACCOUNTS  VALUES (123004, '5000-1700-6091',  'RECURRING DEPOSITS' ,7500000 ,'ACTIVE','S')\")\n",
        "cursor.execute(\"INSERT INTO BANK_ACCOUNTS  VALUES (123004, '4000-1956-3401',  'SAVINGS'            , 655000 ,'ACTIVE','P')\")\n",
        "cursor.execute(\"INSERT INTO BANK_ACCOUNTS  VALUES (123005, '4000-1956-5102',  'SAVINGS'            , 300000 ,'ACTIVE','P')\")\n",
        "cursor.execute(\"INSERT INTO BANK_ACCOUNTS  VALUES (123005, '4000-1956-5102',  'SAVINGS'            , 300000 ,'ACTIVE','P')\")\n",
        "cursor.execute(\"INSERT INTO BANK_ACCOUNTS  VALUES (123006, '4000-1956-5698',  'SAVINGS'            , 455000 ,'ACTIVE' ,'P')\")\n",
        "cursor.execute(\"INSERT INTO BANK_ACCOUNTS  VALUES (123007, '5000-1700-9800',  'SAVINGS'            , 355000 ,'ACTIVE' ,'P')\")\n",
        "cursor.execute(\"INSERT INTO BANK_ACCOUNTS  VALUES (123007, '4000-1956-9977',  'RECURRING DEPOSITS' , 7025000,'ACTIVE' ,'S')\")\n",
        "cursor.execute(\"INSERT INTO BANK_ACCOUNTS  VALUES (123007, '9000-1700-7777-4321',  'CREDITCARD'    ,0      ,'INACTIVE','P')\")\n",
        "cursor.execute(\"INSERT INTO BANK_ACCOUNTS  VALUES (123008, '5000-1700-7755',  'SAVINGS'            ,NULL   ,'INACTIVE','P')\")\n",
        "conn.commit()"
      ],
      "metadata": {
        "id": "7DjLHvFjo_Id"
      },
      "execution_count": null,
      "outputs": []
    },
    {
      "cell_type": "code",
      "source": [
        "from tabulate import tabulate\n",
        "\n",
        "cursor.execute(\"SELECT * FROM BANK_ACCOUNTS\")\n",
        "rows = cursor.fetchall()\n",
        "column_names = [desc[0] for desc in cursor.description]\n",
        "\n",
        "print(tabulate(rows,headers=column_names,tablefmt=\"grid\"))"
      ],
      "metadata": {
        "colab": {
          "base_uri": "https://localhost:8080/"
        },
        "id": "wLzeNLBzpJDF",
        "outputId": "a5925bc8-1fcb-4268-baa5-36c515ebed65"
      },
      "execution_count": null,
      "outputs": [
        {
          "output_type": "stream",
          "name": "stdout",
          "text": [
            "+---------------+---------------------+--------------------+------------------+------------------+-----------------+\n",
            "|   Customer_id | Account_Number      | Account_type       |   Balance_amount | Account_status   | Relation_ship   |\n",
            "+===============+=====================+====================+==================+==================+=================+\n",
            "|        123001 | 4000-1956-3456      | SAVINGS            |           200000 | ACTIVE           | P               |\n",
            "+---------------+---------------------+--------------------+------------------+------------------+-----------------+\n",
            "|        123001 | 5000-1700-3456      | RECURRING DEPOSITS |          9400000 | ACTIVE           | S               |\n",
            "+---------------+---------------------+--------------------+------------------+------------------+-----------------+\n",
            "|        123002 | 4000-1956-2001      | SAVINGS            |           400000 | ACTIVE           | P               |\n",
            "+---------------+---------------------+--------------------+------------------+------------------+-----------------+\n",
            "|        123002 | 5000-1700-5001      | RECURRING DEPOSITS |          7500000 | ACTIVE           | S               |\n",
            "+---------------+---------------------+--------------------+------------------+------------------+-----------------+\n",
            "|        123003 | 4000-1956-2900      | SAVINGS            |           750000 | INACTIVE         | P               |\n",
            "+---------------+---------------------+--------------------+------------------+------------------+-----------------+\n",
            "|        123004 | 5000-1700-6091      | RECURRING DEPOSITS |          7500000 | ACTIVE           | S               |\n",
            "+---------------+---------------------+--------------------+------------------+------------------+-----------------+\n",
            "|        123004 | 4000-1956-3401      | SAVINGS            |           655000 | ACTIVE           | P               |\n",
            "+---------------+---------------------+--------------------+------------------+------------------+-----------------+\n",
            "|        123005 | 4000-1956-5102      | SAVINGS            |           300000 | ACTIVE           | P               |\n",
            "+---------------+---------------------+--------------------+------------------+------------------+-----------------+\n",
            "|        123005 | 4000-1956-5102      | SAVINGS            |           300000 | ACTIVE           | P               |\n",
            "+---------------+---------------------+--------------------+------------------+------------------+-----------------+\n",
            "|        123006 | 4000-1956-5698      | SAVINGS            |           455000 | ACTIVE           | P               |\n",
            "+---------------+---------------------+--------------------+------------------+------------------+-----------------+\n",
            "|        123007 | 5000-1700-9800      | SAVINGS            |           355000 | ACTIVE           | P               |\n",
            "+---------------+---------------------+--------------------+------------------+------------------+-----------------+\n",
            "|        123007 | 4000-1956-9977      | RECURRING DEPOSITS |          7025000 | ACTIVE           | S               |\n",
            "+---------------+---------------------+--------------------+------------------+------------------+-----------------+\n",
            "|        123007 | 9000-1700-7777-4321 | CREDITCARD         |                0 | INACTIVE         | P               |\n",
            "+---------------+---------------------+--------------------+------------------+------------------+-----------------+\n",
            "|        123008 | 5000-1700-7755      | SAVINGS            |                  | INACTIVE         | P               |\n",
            "+---------------+---------------------+--------------------+------------------+------------------+-----------------+\n"
          ]
        }
      ]
    },
    {
      "cell_type": "markdown",
      "source": [
        "**Bank Account Relationship Details Table**"
      ],
      "metadata": {
        "id": "kvgLeFOXppaW"
      }
    },
    {
      "cell_type": "code",
      "source": [
        "cursor.execute('''\n",
        "CREATE TABLE Bank_Account_Relationship_Details( Customer_id INT,\n",
        "                                                                Account_Number VARCHAR(19),\n",
        "                                Account_type VARCHAR(25),\n",
        "                                Linking_Account_Number VARCHAR(19));\n",
        "''')\n",
        "conn.commit()"
      ],
      "metadata": {
        "id": "ojBuG1A4pwWQ"
      },
      "execution_count": null,
      "outputs": []
    },
    {
      "cell_type": "code",
      "source": [
        "cursor.execute(\"INSERT INTO Bank_Account_Relationship_Details  VALUES (123001, '4000-1956-3456',  'SAVINGS' , '')\")\n",
        "cursor.execute(\"INSERT INTO Bank_Account_Relationship_Details  VALUES (123001, '5000-1700-3456',  'RECURRING DEPOSITS' , '4000-1956-3456')\")\n",
        "cursor.execute(\"INSERT INTO Bank_Account_Relationship_Details  VALUES (123002, '4000-1956-2001',  'SAVINGS' , '' )\")\n",
        "cursor.execute(\"INSERT INTO Bank_Account_Relationship_Details  VALUES (123002, '5000-1700-5001',  'RECURRING DEPOSITS' , '4000-1956-2001' )\")\n",
        "cursor.execute(\"INSERT INTO Bank_Account_Relationship_Details  VALUES (123003, '4000-1956-2900',  'SAVINGS' , '' )\")\n",
        "cursor.execute(\"INSERT INTO Bank_Account_Relationship_Details  VALUES (123004, '5000-1700-6091',  'RECURRING DEPOSITS' , '4000-1956-2900' )\")\n",
        "cursor.execute(\"INSERT INTO Bank_Account_Relationship_Details  VALUES (123004, '5000-1700-7791',  'RECURRING DEPOSITS' , '4000-1956-2900' )\")\n",
        "cursor.execute(\"INSERT INTO Bank_Account_Relationship_Details  VALUES (123007, '5000-1700-9800',  'SAVINGS' , '' )\")\n",
        "cursor.execute(\"INSERT INTO Bank_Account_Relationship_Details  VALUES (123007, '4000-1956-9977',  'RECURRING DEPOSITS' , '5000-1700-9800' )\")\n",
        "cursor.execute(\"INSERT INTO Bank_Account_Relationship_Details  VALUES (NULL, '9000-1700-7777-4321',  'Credit Card' , '5000-1700-9800' )\")\n",
        "cursor.execute(\"INSERT INTO Bank_Account_Relationship_Details  VALUES (NULL, '5900-1900-9877-5543', 'Add-on Credit Card', '9000-1700-7777-4321' )\")\n",
        "cursor.execute(\"INSERT INTO Bank_Account_Relationship_Details  VALUES (NULL, '5800-1700-9800-7755', 'Credit Card', '4000-1956-5698' )\")\n",
        "cursor.execute(\"INSERT INTO Bank_Account_Relationship_Details  VALUES (NULL, '5890-1970-7706-8912', 'Add-on Credit Card', '5800-1700-9800-7755' )\")\n",
        "conn.commit()"
      ],
      "metadata": {
        "id": "x6LCq0UA4ata"
      },
      "execution_count": null,
      "outputs": []
    },
    {
      "cell_type": "code",
      "source": [
        "from tabulate import tabulate\n",
        "\n",
        "cursor.execute(\"SELECT * FROM Bank_Account_Relationship_Details\")\n",
        "rows = cursor.fetchall()\n",
        "column_names = [desc[0] for desc in cursor.description]\n",
        "\n",
        "print(tabulate(rows,headers=column_names,tablefmt=\"grid\"))"
      ],
      "metadata": {
        "colab": {
          "base_uri": "https://localhost:8080/"
        },
        "id": "SshN92o9qI6e",
        "outputId": "36e100f9-15bb-41e3-d435-09a593b94e5a"
      },
      "execution_count": null,
      "outputs": [
        {
          "output_type": "stream",
          "name": "stdout",
          "text": [
            "+---------------+---------------------+--------------------+--------------------------+\n",
            "|   Customer_id | Account_Number      | Account_type       | Linking_Account_Number   |\n",
            "+===============+=====================+====================+==========================+\n",
            "|        123001 | 4000-1956-3456      | SAVINGS            |                          |\n",
            "+---------------+---------------------+--------------------+--------------------------+\n",
            "|        123001 | 5000-1700-3456      | RECURRING DEPOSITS | 4000-1956-3456           |\n",
            "+---------------+---------------------+--------------------+--------------------------+\n",
            "|        123002 | 4000-1956-2001      | SAVINGS            |                          |\n",
            "+---------------+---------------------+--------------------+--------------------------+\n",
            "|        123002 | 5000-1700-5001      | RECURRING DEPOSITS | 4000-1956-2001           |\n",
            "+---------------+---------------------+--------------------+--------------------------+\n",
            "|        123003 | 4000-1956-2900      | SAVINGS            |                          |\n",
            "+---------------+---------------------+--------------------+--------------------------+\n",
            "|        123004 | 5000-1700-6091      | RECURRING DEPOSITS | 4000-1956-2900           |\n",
            "+---------------+---------------------+--------------------+--------------------------+\n",
            "|        123004 | 5000-1700-7791      | RECURRING DEPOSITS | 4000-1956-2900           |\n",
            "+---------------+---------------------+--------------------+--------------------------+\n",
            "|        123007 | 5000-1700-9800      | SAVINGS            |                          |\n",
            "+---------------+---------------------+--------------------+--------------------------+\n",
            "|        123007 | 4000-1956-9977      | RECURRING DEPOSITS | 5000-1700-9800           |\n",
            "+---------------+---------------------+--------------------+--------------------------+\n",
            "|               | 9000-1700-7777-4321 | Credit Card        | 5000-1700-9800           |\n",
            "+---------------+---------------------+--------------------+--------------------------+\n",
            "|               | 5900-1900-9877-5543 | Add-on Credit Card | 9000-1700-7777-4321      |\n",
            "+---------------+---------------------+--------------------+--------------------------+\n",
            "|               | 5800-1700-9800-7755 | Credit Card        | 4000-1956-5698           |\n",
            "+---------------+---------------------+--------------------+--------------------------+\n",
            "|               | 5890-1970-7706-8912 | Add-on Credit Card | 5800-1700-9800-7755      |\n",
            "+---------------+---------------------+--------------------+--------------------------+\n"
          ]
        }
      ]
    },
    {
      "cell_type": "markdown",
      "source": [
        "**Bank Account Transaction Table**"
      ],
      "metadata": {
        "id": "pj0B6VAzqYCZ"
      }
    },
    {
      "cell_type": "code",
      "source": [
        "cursor.execute('''\n",
        "CREATE TABLE BANK_ACCOUNTS_TRANSACTIONS (\n",
        "              \tAccount_Number VARCHAR(19),\n",
        "              \tTransaction_amount Decimal(18,2) ,\n",
        "              \tTranscation_channel VARCHAR(18) ,\n",
        "             \tProvince varchar(3) ,\n",
        "             \tTransaction_Date Date) ;\n",
        "''')\n",
        "conn.commit()"
      ],
      "metadata": {
        "id": "nJdaZyPMqWNL"
      },
      "execution_count": null,
      "outputs": []
    },
    {
      "cell_type": "code",
      "source": [
        "cursor.execute(\"INSERT INTO BANK_ACCOUNTS_TRANSACTIONS VALUES ( '4000-1956-3456',  -2000, 'ATM withdrawl' , 'CA', '2020-01-13')\")\n",
        "cursor.execute(\"INSERT INTO BANK_ACCOUNTS_TRANSACTIONS VALUES ( '4000-1956-2001',  -4000, 'POS-Walmart'   , 'MN', '2020-02-14')\")\n",
        "cursor.execute(\"INSERT INTO BANK_ACCOUNTS_TRANSACTIONS VALUES ( '4000-1956-2001',  -1600, 'UPI transfer'  , 'MN', '2020-01-19')\")\n",
        "cursor.execute(\"INSERT INTO BANK_ACCOUNTS_TRANSACTIONS VALUES ( '4000-1956-2001',  -6000, 'Bankers cheque', 'CA', '2020-03-23')\")\n",
        "cursor.execute(\"INSERT INTO BANK_ACCOUNTS_TRANSACTIONS VALUES ( '4000-1956-2001',  -3000, 'Net banking'   , 'CA', '2020-04-24')\")\n",
        "cursor.execute(\"INSERT INTO BANK_ACCOUNTS_TRANSACTIONS VALUES ( '4000-1956-2001',  23000, 'cheque deposit', 'MN', '2020-03-15')\")\n",
        "cursor.execute(\"INSERT INTO BANK_ACCOUNTS_TRANSACTIONS VALUES ( '5000-1700-6091',  40000, 'ECS transfer'  , 'NY', '2020-02-19')\")\n",
        "cursor.execute(\"INSERT INTO BANK_ACCOUNTS_TRANSACTIONS VALUES ( '5000-1700-7791',  40000, 'ECS transfer'  , 'NY', '2020-02-19')\")\n",
        "cursor.execute(\"INSERT INTO BANK_ACCOUNTS_TRANSACTIONS VALUES ( '4000-1956-3401',   8000, 'Cash Deposit'  , 'NY', '2020-01-19')\")\n",
        "cursor.execute(\"INSERT INTO BANK_ACCOUNTS_TRANSACTIONS VALUES ( '4000-1956-5102',  -6500, 'ATM withdrawal' , 'NY', '2020-03-14')\")\n",
        "cursor.execute(\"INSERT INTO BANK_ACCOUNTS_TRANSACTIONS VALUES ( '4000-1956-5698',  -9000, 'Cash Deposit'  , 'NY', '2020-03-27')\")\n",
        "cursor.execute(\"INSERT INTO BANK_ACCOUNTS_TRANSACTIONS VALUES ( '4000-1956-9977',  50000, 'ECS transfer'  , 'NY', '2020-01-16')\")\n",
        "cursor.execute(\"INSERT INTO BANK_ACCOUNTS_TRANSACTIONS VALUES ( '9000-1700-7777-4321',  -5000, 'POS-Walmart', 'NY', '2020-02-17')\")\n",
        "cursor.execute(\"INSERT INTO BANK_ACCOUNTS_TRANSACTIONS VALUES ( '9000-1700-7777-4321',  -8000, 'Shopping Cart', 'MN', '2020-03-13')\")\n",
        "cursor.execute(\"INSERT INTO BANK_ACCOUNTS_TRANSACTIONS VALUES ( '9000-1700-7777-4321',  -2500, 'Shopping Cart', 'MN', '2020-04-21')\")\n",
        "cursor.execute(\"INSERT INTO BANK_ACCOUNTS_TRANSACTIONS VALUES ( '5800-1700-9800-7755', -9000, 'POS-Walmart','MN', '2020-04-13')\")\n",
        "cursor.execute(\"INSERT INTO BANK_ACCOUNTS_TRANSACTIONS VALUES ( '5890-1970-7706-8912', -11000, 'Shopping Cart' , 'NY' , '2020-03-12')\")\n",
        "conn.commit()"
      ],
      "metadata": {
        "id": "aQznYYF_qmM1"
      },
      "execution_count": null,
      "outputs": []
    },
    {
      "cell_type": "code",
      "source": [
        "from tabulate import tabulate\n",
        "\n",
        "cursor.execute(\"SELECT * FROM BANK_ACCOUNTS_TRANSACTIONS\")\n",
        "rows = cursor.fetchall()\n",
        "column_names = [desc[0] for desc in cursor.description]\n",
        "\n",
        "print(tabulate(rows,headers=column_names,tablefmt=\"grid\"))"
      ],
      "metadata": {
        "colab": {
          "base_uri": "https://localhost:8080/"
        },
        "id": "DEZKM9zhqvwu",
        "outputId": "a426cc38-7d3c-48d3-a58f-166db81078df"
      },
      "execution_count": null,
      "outputs": [
        {
          "output_type": "stream",
          "name": "stdout",
          "text": [
            "+---------------------+----------------------+-----------------------+------------+--------------------+\n",
            "| Account_Number      |   Transaction_amount | Transcation_channel   | Province   | Transaction_Date   |\n",
            "+=====================+======================+=======================+============+====================+\n",
            "| 4000-1956-3456      |                -2000 | ATM withdrawl         | CA         | 2020-01-13         |\n",
            "+---------------------+----------------------+-----------------------+------------+--------------------+\n",
            "| 4000-1956-2001      |                -4000 | POS-Walmart           | MN         | 2020-02-14         |\n",
            "+---------------------+----------------------+-----------------------+------------+--------------------+\n",
            "| 4000-1956-2001      |                -1600 | UPI transfer          | MN         | 2020-01-19         |\n",
            "+---------------------+----------------------+-----------------------+------------+--------------------+\n",
            "| 4000-1956-2001      |                -6000 | Bankers cheque        | CA         | 2020-03-23         |\n",
            "+---------------------+----------------------+-----------------------+------------+--------------------+\n",
            "| 4000-1956-2001      |                -3000 | Net banking           | CA         | 2020-04-24         |\n",
            "+---------------------+----------------------+-----------------------+------------+--------------------+\n",
            "| 4000-1956-2001      |                23000 | cheque deposit        | MN         | 2020-03-15         |\n",
            "+---------------------+----------------------+-----------------------+------------+--------------------+\n",
            "| 5000-1700-6091      |                40000 | ECS transfer          | NY         | 2020-02-19         |\n",
            "+---------------------+----------------------+-----------------------+------------+--------------------+\n",
            "| 5000-1700-7791      |                40000 | ECS transfer          | NY         | 2020-02-19         |\n",
            "+---------------------+----------------------+-----------------------+------------+--------------------+\n",
            "| 4000-1956-3401      |                 8000 | Cash Deposit          | NY         | 2020-01-19         |\n",
            "+---------------------+----------------------+-----------------------+------------+--------------------+\n",
            "| 4000-1956-5102      |                -6500 | ATM withdrawal        | NY         | 2020-03-14         |\n",
            "+---------------------+----------------------+-----------------------+------------+--------------------+\n",
            "| 4000-1956-5698      |                -9000 | Cash Deposit          | NY         | 2020-03-27         |\n",
            "+---------------------+----------------------+-----------------------+------------+--------------------+\n",
            "| 4000-1956-9977      |                50000 | ECS transfer          | NY         | 2020-01-16         |\n",
            "+---------------------+----------------------+-----------------------+------------+--------------------+\n",
            "| 9000-1700-7777-4321 |                -5000 | POS-Walmart           | NY         | 2020-02-17         |\n",
            "+---------------------+----------------------+-----------------------+------------+--------------------+\n",
            "| 9000-1700-7777-4321 |                -8000 | Shopping Cart         | MN         | 2020-03-13         |\n",
            "+---------------------+----------------------+-----------------------+------------+--------------------+\n",
            "| 9000-1700-7777-4321 |                -2500 | Shopping Cart         | MN         | 2020-04-21         |\n",
            "+---------------------+----------------------+-----------------------+------------+--------------------+\n",
            "| 5800-1700-9800-7755 |                -9000 | POS-Walmart           | MN         | 2020-04-13         |\n",
            "+---------------------+----------------------+-----------------------+------------+--------------------+\n",
            "| 5890-1970-7706-8912 |               -11000 | Shopping Cart         | NY         | 2020-03-12         |\n",
            "+---------------------+----------------------+-----------------------+------------+--------------------+\n"
          ]
        }
      ]
    },
    {
      "cell_type": "markdown",
      "source": [
        "**Bank customer messages table**"
      ],
      "metadata": {
        "id": "HPK-vrGtq6pp"
      }
    },
    {
      "cell_type": "code",
      "source": [
        "cursor.execute('''\n",
        "CREATE TABLE BANK_CUSTOMERS_MESSAGES (\n",
        "              \tEvent VARCHAR(24),\n",
        "              \tCustomer_message VARCHAR(75),\n",
        "              \tNotice_delivery_mode VARCHAR(15)) ;\n",
        "''')\n",
        "conn.commit()"
      ],
      "metadata": {
        "id": "oRSXlu9Vq9I2"
      },
      "execution_count": null,
      "outputs": []
    },
    {
      "cell_type": "code",
      "source": [
        "cursor.execute(\"INSERT INTO BANK_CUSTOMERS_MESSAGES VALUES ('Adhoc', 'All Banks are closed due to announcement of National strike', 'mobile')\")\n",
        "cursor.execute(\"INSERT INTO BANK_CUSTOMERS_MESSAGES VALUES ('Transaction Limit', 'Only limited withdrawals per card are allowed from ATM machines', 'mobile')\")\n",
        "cursor.execute(\"INSERT INTO BANK_ACCOUNTS_TRANSACTION(`Account_Number`, `Transaction_amount`, `Transcation_channel`, `Province`, `Transaction_Date`) VALUES ('4000-1956-9977' , 10000.00 ,'ECS transfer', 'MN' , '2020-02-16')\")\n",
        "cursor.execute(\"INSERT INTO BANK_ACCOUNTS_TRANSACTION(`Account_Number`, `Transaction_amount`, `Transcation_channel`, `Province`, `Transaction_Date`) VALUES ('4000-1956-9977' , 40000.00 ,'ECS transfer', 'MN' , '2020-03-18')\")\n",
        "cursor.execute(\"INSERT INTO BANK_ACCOUNTS_TRANSACTION(`Account_Number`, `Transaction_amount`, `Transcation_channel`, `Province`, `Transaction_Date`) VALUES ('4000-1956-9977' , 60000.00 ,'ECS transfer', 'MN' , '2020-04-18')\")\n",
        "cursor.execute(\"INSERT INTO BANK_ACCOUNTS_TRANSACTION(`Account_Number`, `Transaction_amount`, `Transcation_channel`, `Province`, `Transaction_Date`) VALUES ('4000-1956-9977' , 20000.00 ,'ECS transfer', 'MN' , '2020-03-20')\")\n",
        "cursor.execute(\"INSERT INTO BANK_ACCOUNTS_TRANSACTION(`Account_Number`, `Transaction_amount`, `Transcation_channel`, `Province`, `Transaction_Date`) VALUES ('4000-1956-9977' , 49000.00 ,'ECS transfer', 'MN' , '2020-06-18')\")\n",
        "\n",
        "conn.commit()"
      ],
      "metadata": {
        "colab": {
          "base_uri": "https://localhost:8080/",
          "height": 297
        },
        "id": "dCndhyZvrHHp",
        "outputId": "b41757d9-b9b6-4ea5-d861-d5e03587fb23",
        "collapsed": true
      },
      "execution_count": null,
      "outputs": [
        {
          "output_type": "error",
          "ename": "OperationalError",
          "evalue": "table BANK_ACCOUNTS_TRANSACTION has no column named Transcation_channel",
          "traceback": [
            "\u001b[0;31m---------------------------------------------------------------------------\u001b[0m",
            "\u001b[0;31mOperationalError\u001b[0m                          Traceback (most recent call last)",
            "\u001b[0;32m/tmp/ipython-input-3310369015.py\u001b[0m in \u001b[0;36m<cell line: 0>\u001b[0;34m()\u001b[0m\n\u001b[1;32m      1\u001b[0m \u001b[0mcursor\u001b[0m\u001b[0;34m.\u001b[0m\u001b[0mexecute\u001b[0m\u001b[0;34m(\u001b[0m\u001b[0;34m\"INSERT INTO BANK_CUSTOMERS_MESSAGES VALUES ('Adhoc', 'All Banks are closed due to announcement of National strike', 'mobile')\"\u001b[0m\u001b[0;34m)\u001b[0m\u001b[0;34m\u001b[0m\u001b[0;34m\u001b[0m\u001b[0m\n\u001b[1;32m      2\u001b[0m \u001b[0mcursor\u001b[0m\u001b[0;34m.\u001b[0m\u001b[0mexecute\u001b[0m\u001b[0;34m(\u001b[0m\u001b[0;34m\"INSERT INTO BANK_CUSTOMERS_MESSAGES VALUES ('Transaction Limit', 'Only limited withdrawals per card are allowed from ATM machines', 'mobile')\"\u001b[0m\u001b[0;34m)\u001b[0m\u001b[0;34m\u001b[0m\u001b[0;34m\u001b[0m\u001b[0m\n\u001b[0;32m----> 3\u001b[0;31m \u001b[0mcursor\u001b[0m\u001b[0;34m.\u001b[0m\u001b[0mexecute\u001b[0m\u001b[0;34m(\u001b[0m\u001b[0;34m\"INSERT INTO BANK_ACCOUNTS_TRANSACTION(`Account_Number`, `Transaction_amount`, `Transcation_channel`, `Province`, `Transaction_Date`) VALUES ('4000-1956-9977' , 10000.00 ,'ECS transfer', 'MN' , '2020-02-16')\"\u001b[0m\u001b[0;34m)\u001b[0m\u001b[0;34m\u001b[0m\u001b[0;34m\u001b[0m\u001b[0m\n\u001b[0m\u001b[1;32m      4\u001b[0m \u001b[0mcursor\u001b[0m\u001b[0;34m.\u001b[0m\u001b[0mexecute\u001b[0m\u001b[0;34m(\u001b[0m\u001b[0;34m\"INSERT INTO BANK_ACCOUNTS_TRANSACTION(`Account_Number`, `Transaction_amount`, `Transcation_channel`, `Province`, `Transaction_Date`) VALUES ('4000-1956-9977' , 40000.00 ,'ECS transfer', 'MN' , '2020-03-18')\"\u001b[0m\u001b[0;34m)\u001b[0m\u001b[0;34m\u001b[0m\u001b[0;34m\u001b[0m\u001b[0m\n\u001b[1;32m      5\u001b[0m \u001b[0mcursor\u001b[0m\u001b[0;34m.\u001b[0m\u001b[0mexecute\u001b[0m\u001b[0;34m(\u001b[0m\u001b[0;34m\"INSERT INTO BANK_ACCOUNTS_TRANSACTION(`Account_Number`, `Transaction_amount`, `Transcation_channel`, `Province`, `Transaction_Date`) VALUES ('4000-1956-9977' , 60000.00 ,'ECS transfer', 'MN' , '2020-04-18')\"\u001b[0m\u001b[0;34m)\u001b[0m\u001b[0;34m\u001b[0m\u001b[0;34m\u001b[0m\u001b[0m\n",
            "\u001b[0;31mOperationalError\u001b[0m: table BANK_ACCOUNTS_TRANSACTION has no column named Transcation_channel"
          ]
        }
      ]
    },
    {
      "cell_type": "code",
      "source": [
        "from tabulate import tabulate\n",
        "\n",
        "cursor.execute(\"SELECT * FROM BANK_ACCOUNTS_TRANSACTION\")\n",
        "rows = cursor.fetchall()\n",
        "column_names = [desc[0] for desc in cursor.description]\n",
        "\n",
        "print(tabulate(rows,headers=column_names,tablefmt=\"grid\"))"
      ],
      "metadata": {
        "colab": {
          "base_uri": "https://localhost:8080/"
        },
        "id": "n8v3405YrSnv",
        "outputId": "1b415db1-db69-4d53-ab6a-3c9b373dbf86"
      },
      "execution_count": null,
      "outputs": [
        {
          "output_type": "stream",
          "name": "stdout",
          "text": [
            "+---------------------+----------------------+-----------------------+------------+--------------------+\n",
            "| ACCOUNT_NUMBER      |   TRANSACTION_AMOUNT | TRANSACTION_CHANNEL   | PROVINCE   | TRANSACTION_DATE   |\n",
            "+=====================+======================+=======================+============+====================+\n",
            "| 4000-1956-3456      |                -2000 | ATM withdrawl         | CA         | 2020-01-13         |\n",
            "+---------------------+----------------------+-----------------------+------------+--------------------+\n",
            "| 4000-1956-2001      |                -4000 | POS-Walmart           | MN         | 2020-02-14         |\n",
            "+---------------------+----------------------+-----------------------+------------+--------------------+\n",
            "| 4000-1956-2001      |                -1600 | UPI transfer          | MN         | 2020-01-19         |\n",
            "+---------------------+----------------------+-----------------------+------------+--------------------+\n",
            "| 4000-1956-2001      |                -6000 | Bankers cheque        | CA         | 2020-03-23         |\n",
            "+---------------------+----------------------+-----------------------+------------+--------------------+\n",
            "| 4000-1956-2001      |                -3000 | Net banking           | CA         | 2020-04-24         |\n",
            "+---------------------+----------------------+-----------------------+------------+--------------------+\n",
            "| 4000-1956-2001      |                23000 | cheque deposit        | MN         | 2020-03-15         |\n",
            "+---------------------+----------------------+-----------------------+------------+--------------------+\n",
            "| 5000-1700-6091      |                40000 | ECS transfer          | NY         | 2020-02-19         |\n",
            "+---------------------+----------------------+-----------------------+------------+--------------------+\n",
            "| 5000-1700-7791      |                40000 | ECS transfer          | NY         | 2020-02-19         |\n",
            "+---------------------+----------------------+-----------------------+------------+--------------------+\n",
            "| 4000-1956-3401      |                 8000 | Cash Deposit          | NY         | 2020-01-19         |\n",
            "+---------------------+----------------------+-----------------------+------------+--------------------+\n",
            "| 4000-1956-5102      |                -6500 | ATM withdrawal        | NY         | 2020-03-14         |\n",
            "+---------------------+----------------------+-----------------------+------------+--------------------+\n",
            "| 4000-1956-5698      |                -9000 | Cash Deposit          | NY         | 2020-03-27         |\n",
            "+---------------------+----------------------+-----------------------+------------+--------------------+\n",
            "| 4000-1956-9977      |                50000 | ECS transfer          | NY         | 2020-01-16         |\n",
            "+---------------------+----------------------+-----------------------+------------+--------------------+\n",
            "| 9000-1700-7777-4321 |                -5000 | POS-Walmart           | NY         | 2020-02-17         |\n",
            "+---------------------+----------------------+-----------------------+------------+--------------------+\n",
            "| 9000-1700-7777-4321 |                -8000 | Shopping Cart         | MN         | 2020-03-13         |\n",
            "+---------------------+----------------------+-----------------------+------------+--------------------+\n",
            "| 9000-1700-7777-4321 |                -2500 | Shopping Cart         | MN         | 2020-04-21         |\n",
            "+---------------------+----------------------+-----------------------+------------+--------------------+\n",
            "| 5800-1700-9800-7755 |                -9000 | POS-Walmart           | MN         | 2020-04-13         |\n",
            "+---------------------+----------------------+-----------------------+------------+--------------------+\n",
            "| 5890-1970-7706-8912 |               -11000 | Shopping Cart         | NY         | 2020-03-12         |\n",
            "+---------------------+----------------------+-----------------------+------------+--------------------+\n"
          ]
        }
      ]
    },
    {
      "cell_type": "markdown",
      "source": [
        "**Bank customer messages table**"
      ],
      "metadata": {
        "id": "F5ngPmOCrbup"
      }
    },
    {
      "cell_type": "code",
      "source": [
        "cursor.execute('''\n",
        "CREATE TABLE BANK_CUSTOMERR_MESSAGES (\n",
        "              \tEvent VARCHAR(24),\n",
        "              \tCustomer_message VARCHAR(75),\n",
        "              \tNotice_delivery_mode VARCHAR(15)) ;\n",
        "''')\n",
        "conn.commit()"
      ],
      "metadata": {
        "id": "aOxVxAqjrZ7B"
      },
      "execution_count": null,
      "outputs": []
    },
    {
      "cell_type": "code",
      "source": [
        "cursor.execute(\"INSERT INTO BANK_CUSTOMERR_MESSAGES VALUES ('Adhoc', 'All Banks are closed due to announcement of National strike', 'mobile')\")\n",
        "cursor.execute(\"INSERT INTO BANK_CUSTOMERR_MESSAGES VALUES ('Transaction Limit', 'Only limited withdrawals per card are allowed from ATM machines', 'mobile')\")\n",
        "cursor.execute(\"INSERT INTO BANK_ACCOUNT_TRANSACTION(`Account_Number`, `Transaction_amount`, `Transcation_channel`, `Province`, `Transaction_Date`) VALUES ('4000-1956-9977' , 10000.00 ,'ECS transfer', 'MN' , '2020-02-16')\")\n",
        "cursor.execute(\"INSERT INTO BANK_ACCOUNT_TRANSACTION(`Account_Number`, `Transaction_amount`, `Transcation_channel`, `Province`, `Transaction_Date`) VALUES ('4000-1956-9977' , 40000.00 ,'ECS transfer', 'MN' , '2020-03-18')\")\n",
        "cursor.execute(\"INSERT INTO BANK_ACCOUNT_TRANSACTION(`Account_Number`, `Transaction_amount`, `Transcation_channel`, `Province`, `Transaction_Date`) VALUES ('4000-1956-9977' , 60000.00 ,'ECS transfer', 'MN' , '2020-04-18')\")\n",
        "cursor.execute(\"INSERT INTO BANK_ACCOUNT_TRANSACTION(`Account_Number`, `Transaction_amount`, `Transcation_channel`, `Province`, `Transaction_Date`) VALUES ('4000-1956-9977' , 20000.00 ,'ECS transfer', 'MN' , '2020-03-20')\")\n",
        "cursor.execute(\"INSERT INTO BANK_ACCOUNT_TRANSACTION(`Account_Number`, `Transaction_amount`, `Transcation_channel`, `Province`, `Transaction_Date`) VALUES ('4000-1956-9977' , 49000.00 ,'ECS transfer', 'MN' , '2020-06-18')\")\n",
        "\n",
        "conn.commit()"
      ],
      "metadata": {
        "id": "G5R8XnyIrpNY"
      },
      "execution_count": null,
      "outputs": []
    },
    {
      "cell_type": "code",
      "source": [
        "from tabulate import tabulate\n",
        "\n",
        "cursor.execute(\"SELECT * FROM BANK_CUSTOMERR_MESSAGES\")\n",
        "rows = cursor.fetchall()\n",
        "column_names = [desc[0] for desc in cursor.description]\n",
        "\n",
        "print(tabulate(rows,headers=column_names,tablefmt=\"grid\"))"
      ],
      "metadata": {
        "colab": {
          "base_uri": "https://localhost:8080/"
        },
        "id": "Msj_OAkHrt7t",
        "outputId": "7709cb3e-24ce-4e3d-eb85-3b2dc498a709"
      },
      "execution_count": null,
      "outputs": [
        {
          "output_type": "stream",
          "name": "stdout",
          "text": [
            "+-------------------+-----------------------------------------------------------------+------------------------+\n",
            "| Event             | Customer_message                                                | Notice_delivery_mode   |\n",
            "+===================+=================================================================+========================+\n",
            "| Adhoc             | All Banks are closed due to announcement of National strike     | mobile                 |\n",
            "+-------------------+-----------------------------------------------------------------+------------------------+\n",
            "| Transaction Limit | Only limited withdrawals per card are allowed from ATM machines | mobile                 |\n",
            "+-------------------+-----------------------------------------------------------------+------------------------+\n"
          ]
        }
      ]
    },
    {
      "cell_type": "markdown",
      "source": [
        "**Bank Interest Rate Table**"
      ],
      "metadata": {
        "id": "49GLfO-br2-R"
      }
    },
    {
      "cell_type": "code",
      "source": [
        "cursor.execute('''\n",
        "CREATE TABLE BANK_INTEREST_RATES(\n",
        "            \taccount_type varchar(24),\n",
        "              \tinterest_rate decimal(4,2),\n",
        "            \tmonth varchar(2),\n",
        "            \tyear  varchar(4)\n",
        "             \t);\n",
        "''')\n",
        "conn.commit()"
      ],
      "metadata": {
        "id": "-WolySbar5kV"
      },
      "execution_count": null,
      "outputs": []
    },
    {
      "cell_type": "code",
      "source": [
        "cursor.execute(\"INSERT  INTO BANK_INTEREST_RATES VALUES ( 'SAVINGS' , 0.04 , '02' , '2020' )\")\n",
        "cursor.execute(\"INSERT  INTO BANK_INTEREST_RATES VALUES ( 'RECURRING DEPOSITS' , 0.07, '02' , '2020' )\")\n",
        "cursor.execute(\"INSERT  INTO BANK_INTEREST_RATES VALUES   ( 'PRIVILEGED_INTEREST_RATE' , 0.08 , '02' , '2020' )\")\n",
        "\n",
        "conn.commit()"
      ],
      "metadata": {
        "id": "NrR2CJvtsZr5"
      },
      "execution_count": null,
      "outputs": []
    },
    {
      "cell_type": "code",
      "source": [
        "from tabulate import tabulate\n",
        "\n",
        "cursor.execute(\"SELECT * FROM BANK_INTEREST_RATES\")\n",
        "rows = cursor.fetchall()\n",
        "column_names = [desc[0] for desc in cursor.description]\n",
        "\n",
        "print(tabulate(rows,headers=column_names,tablefmt=\"grid\"))"
      ],
      "metadata": {
        "colab": {
          "base_uri": "https://localhost:8080/"
        },
        "id": "gM5ZfYfVslS8",
        "outputId": "a9be3ab5-b210-4b60-e2e8-143599d0d877"
      },
      "execution_count": null,
      "outputs": [
        {
          "output_type": "stream",
          "name": "stdout",
          "text": [
            "+--------------------------+-----------------+---------+--------+\n",
            "| account_type             |   interest_rate |   month |   year |\n",
            "+==========================+=================+=========+========+\n",
            "| SAVINGS                  |            0.04 |      02 |   2020 |\n",
            "+--------------------------+-----------------+---------+--------+\n",
            "| RECURRING DEPOSITS       |            0.07 |      02 |   2020 |\n",
            "+--------------------------+-----------------+---------+--------+\n",
            "| PRIVILEGED_INTEREST_RATE |            0.08 |      02 |   2020 |\n",
            "+--------------------------+-----------------+---------+--------+\n"
          ]
        }
      ]
    },
    {
      "cell_type": "markdown",
      "source": [
        "1.Print customer Id, customer name and average account_balance maintained by each customer for all of his/her accounts in the bank.(8 Rows)"
      ],
      "metadata": {
        "id": "_5vHOmX6tAeD"
      }
    },
    {
      "cell_type": "code",
      "source": [
        "query = \"\"\"\n",
        "SELECT\n",
        "    c.customer_id,\n",
        "    c.customer_name,\n",
        "    AVG(a.Balance_amount) AS average_account_balance\n",
        "FROM CUSTOMERR c\n",
        "JOIN BANK_ACCOUNT a ON c.customer_id = a.Customer_id\n",
        "GROUP BY c.customer_id, c.customer_name\n",
        "ORDER BY c.customer_id;\n",
        "\"\"\"\n",
        "cursor.execute(query)\n",
        "rows = cursor.fetchall()\n",
        "column_names = [desc[0] for desc in cursor.description]\n",
        "from tabulate import tabulate\n",
        "print(tabulate(rows, headers=column_names, tablefmt=\"grid\"))"
      ],
      "metadata": {
        "colab": {
          "base_uri": "https://localhost:8080/"
        },
        "id": "qgVcP7oqtC4m",
        "outputId": "d8dddde0-31e7-4b8e-c76b-c1e24f3ef10d"
      },
      "execution_count": null,
      "outputs": [
        {
          "output_type": "stream",
          "name": "stdout",
          "text": [
            "+---------------+-----------------+---------------------------+\n",
            "|   CUSTOMER_ID | CUSTOMER_NAME   |   average_account_balance |\n",
            "+===============+=================+===========================+\n",
            "|        123001 | UDAY            |                  4.8e+06  |\n",
            "+---------------+-----------------+---------------------------+\n",
            "|        123002 | VAMSI           |                  3.95e+06 |\n",
            "+---------------+-----------------+---------------------------+\n",
            "|        123003 | RITHIKA         |             750000        |\n",
            "+---------------+-----------------+---------------------------+\n"
          ]
        }
      ]
    },
    {
      "cell_type": "markdown",
      "source": [
        "2.Print customer_id , account_number and balance_amount , condition that if balance_amount is nil then assign transaction_amount for account_type = \"Credit Card\"(4 Rows)\n",
        "\n"
      ],
      "metadata": {
        "id": "vEfraBqWtPYq"
      }
    },
    {
      "cell_type": "code",
      "source": [
        "query = \"\"\"\n",
        "SELECT\n",
        "    a.customer_id,\n",
        "    a.Account_Number,\n",
        "    CASE\n",
        "        WHEN a.Balance_amount IS NULL OR a.Balance_amount= 0\n",
        "                                      AND a.Account_type = 'Credit Card'\n",
        "                                      THEN t.Transaction_amount\n",
        "                                      ELSE a.Balance_amount\n",
        "                                      END AS balance_amount\n",
        "                                      FROM Bank_Account_Details a\n",
        "                                      LEFT JOIN BANK_ACCOUNTS_TRANSACTIONS t\n",
        "                                      ON a.Account_Number = t.Account_Number\n",
        "                                      WHERE a.Account_type = 'Credit Card';\n",
        "\"\"\"\n",
        "cursor.execute(query)\n",
        "rows = cursor.fetchall()\n",
        "column_names = [desc[0] for desc in cursor.description]\n",
        "from tabulate import tabulate\n",
        "print(tabulate(rows, headers=column_names, tablefmt=\"grid\"))"
      ],
      "metadata": {
        "colab": {
          "base_uri": "https://localhost:8080/"
        },
        "id": "7k3anqvotRE0",
        "outputId": "6f159884-b040-456f-cf4a-76cd60582fa8"
      },
      "execution_count": null,
      "outputs": [
        {
          "output_type": "stream",
          "name": "stdout",
          "text": [
            "+---------------+---------------------+------------------+\n",
            "|   Customer_id | Account_Number      |   balance_amount |\n",
            "+===============+=====================+==================+\n",
            "|        123007 | 9000-1700-7777-4321 |            -8000 |\n",
            "+---------------+---------------------+------------------+\n",
            "|        123007 | 9000-1700-7777-4321 |            -5000 |\n",
            "+---------------+---------------------+------------------+\n",
            "|        123007 | 9000-1700-7777-4321 |            -2500 |\n",
            "+---------------+---------------------+------------------+\n",
            "|        123006 | 5800-1700-9800-7755 |            -9000 |\n",
            "+---------------+---------------------+------------------+\n"
          ]
        }
      ]
    },
    {
      "cell_type": "markdown",
      "source": [
        "3.Print account_number and balance_amount , transaction_amount,Transaction_Date from Bank_Account_Details and bank_account_transaction for all the transactions occurred during march,2020 and april, 2020(12 Rows)"
      ],
      "metadata": {
        "id": "X3lHkj4juvl6"
      }
    },
    {
      "cell_type": "code",
      "source": [
        "query = \"\"\"\n",
        "SELECT\n",
        "    b.account_number,\n",
        "    b.balance_amount,\n",
        "    t.transaction_amount,\n",
        "    t.Transaction_Date\n",
        "FROM\n",
        "    Bank_Account_Details b\n",
        "JOIN\n",
        "    BANK_ACCOUNTS_TRANSACTION t ON b.account_number = t.account_number\n",
        "WHERE\n",
        "    t.Transaction_Date BETWEEN '2020-03-01' AND '2020-04-30';\n",
        "\"\"\"\n",
        "cursor.execute(query)\n",
        "rows = cursor.fetchall()\n",
        "column_names = [desc[0] for desc in cursor.description]\n",
        "from tabulate import tabulate\n",
        "print(tabulate(rows, headers=column_names, tablefmt=\"grid\"))"
      ],
      "metadata": {
        "colab": {
          "base_uri": "https://localhost:8080/"
        },
        "id": "ktSbH0U6uvLX",
        "outputId": "497777bc-77c4-4efa-fe17-84393b61b92e"
      },
      "execution_count": null,
      "outputs": [
        {
          "output_type": "stream",
          "name": "stdout",
          "text": [
            "+---------------------+------------------+----------------------+--------------------+\n",
            "| Account_Number      |   Balance_amount |   TRANSACTION_AMOUNT | TRANSACTION_DATE   |\n",
            "+=====================+==================+======================+====================+\n",
            "| 4000-1956-2001      |           400000 |                -6000 | 2020-03-23         |\n",
            "+---------------------+------------------+----------------------+--------------------+\n",
            "| 4000-1956-2001      |           400000 |                -3000 | 2020-04-24         |\n",
            "+---------------------+------------------+----------------------+--------------------+\n",
            "| 4000-1956-2001      |           400000 |                23000 | 2020-03-15         |\n",
            "+---------------------+------------------+----------------------+--------------------+\n",
            "| 4000-1956-5102      |           300000 |                -6500 | 2020-03-14         |\n",
            "+---------------------+------------------+----------------------+--------------------+\n",
            "| 4000-1956-5698      |           455000 |                -9000 | 2020-03-27         |\n",
            "+---------------------+------------------+----------------------+--------------------+\n",
            "| 9000-1700-7777-4321 |                0 |                -8000 | 2020-03-13         |\n",
            "+---------------------+------------------+----------------------+--------------------+\n",
            "| 9000-1700-7777-4321 |                0 |                -2500 | 2020-04-21         |\n",
            "+---------------------+------------------+----------------------+--------------------+\n",
            "| 5800-1700-9800-7755 |                0 |                -9000 | 2020-04-13         |\n",
            "+---------------------+------------------+----------------------+--------------------+\n",
            "| 5890-1970-7706-8912 |                0 |               -11000 | 2020-03-12         |\n",
            "+---------------------+------------------+----------------------+--------------------+\n"
          ]
        }
      ]
    },
    {
      "cell_type": "markdown",
      "source": [
        "4.Print all of the customer id, account number, balance_amount, transaction_amount , Transaction_Date from bank_customer, Bank_Account_Details and bank_account_transaction tables where excluding all of their transactions in march, 2020 month (22 Rows)"
      ],
      "metadata": {
        "id": "wKxQXuW6vCYj"
      }
    },
    {
      "cell_type": "code",
      "source": [
        "query = \"\"\"\n",
        "SELECT\n",
        " c.customer_id,\n",
        " b.Account_Number,\n",
        " b.Balance_amount,\n",
        " t.Transaction_amount,\n",
        " t.Transaction_Date\n",
        "FROM\n",
        " CUSTOMERR c\n",
        "JOIN\n",
        " Bank_Accounts_Detail b ON c.customer_id = b.Customer_id\n",
        "JOIN\n",
        " BANK_ACCOUNTS_TRANSACTION t ON b.Account_number = t.Account_number\n",
        "WHERE\n",
        " t.Transaction_Date NOT BETWEEN '2020-03-01' AND '2020-03-31';\n",
        "\"\"\"\n",
        "cursor.execute(query)\n",
        "rows = cursor.fetchall()\n",
        "column_names = [desc[0] for desc in cursor.description]\n",
        "from tabulate import tabulate\n",
        "print(tabulate(rows, headers=column_names, tablefmt=\"grid\"))"
      ],
      "metadata": {
        "colab": {
          "base_uri": "https://localhost:8080/"
        },
        "id": "FBUW5tH-vEIx",
        "outputId": "2532aa5b-c8d5-44bc-af72-2624ccce80a5"
      },
      "execution_count": null,
      "outputs": [
        {
          "output_type": "stream",
          "name": "stdout",
          "text": [
            "+---------------+------------------+------------------+----------------------+--------------------+\n",
            "|   CUSTOMER_ID | ACCOUNT_NUMBER   |   BALANCE_AMOUNT |   TRANSACTION_AMOUNT | TRANSACTION_DATE   |\n",
            "+===============+==================+==================+======================+====================+\n",
            "|        123001 | 4000-1956-3456   |           200000 |                -2000 | 2020-01-13         |\n",
            "+---------------+------------------+------------------+----------------------+--------------------+\n",
            "|        123001 | 4000-1956-3456   |           200000 |                -2000 | 2020-01-13         |\n",
            "+---------------+------------------+------------------+----------------------+--------------------+\n",
            "|        123001 | 4000-1956-3456   |           200000 |                -2000 | 2020-01-13         |\n",
            "+---------------+------------------+------------------+----------------------+--------------------+\n",
            "|        123002 | 4000-1956-2001   |           400000 |                -4000 | 2020-02-14         |\n",
            "+---------------+------------------+------------------+----------------------+--------------------+\n",
            "|        123002 | 4000-1956-2001   |           400000 |                -4000 | 2020-02-14         |\n",
            "+---------------+------------------+------------------+----------------------+--------------------+\n",
            "|        123002 | 4000-1956-2001   |           400000 |                -4000 | 2020-02-14         |\n",
            "+---------------+------------------+------------------+----------------------+--------------------+\n",
            "|        123002 | 4000-1956-2001   |           400000 |                -1600 | 2020-01-19         |\n",
            "+---------------+------------------+------------------+----------------------+--------------------+\n",
            "|        123002 | 4000-1956-2001   |           400000 |                -1600 | 2020-01-19         |\n",
            "+---------------+------------------+------------------+----------------------+--------------------+\n",
            "|        123002 | 4000-1956-2001   |           400000 |                -1600 | 2020-01-19         |\n",
            "+---------------+------------------+------------------+----------------------+--------------------+\n",
            "|        123002 | 4000-1956-2001   |           400000 |                -3000 | 2020-04-24         |\n",
            "+---------------+------------------+------------------+----------------------+--------------------+\n",
            "|        123002 | 4000-1956-2001   |           400000 |                -3000 | 2020-04-24         |\n",
            "+---------------+------------------+------------------+----------------------+--------------------+\n",
            "|        123002 | 4000-1956-2001   |           400000 |                -3000 | 2020-04-24         |\n",
            "+---------------+------------------+------------------+----------------------+--------------------+\n"
          ]
        }
      ]
    },
    {
      "cell_type": "markdown",
      "source": [
        "5.Print only the customer id, account_number, balance_amount,transaction_amount ,transaction_date who did transactions during the first quarter. Do not display the accounts if they have not done any transactions in the first quarter.(16 Rows)"
      ],
      "metadata": {
        "id": "LfRAm3YSvSJz"
      }
    },
    {
      "cell_type": "code",
      "source": [
        "query=\"\"\"\n",
        "SELECT\n",
        "  a.customer_id,\n",
        "  t.account_number,\n",
        "  a.balance_amount,\n",
        "  t.transaction_amount,\n",
        "  t.transaction_date\n",
        "FROM\n",
        "  BANK_ACCOUNT_DETAILS AS a\n",
        "JOIN\n",
        "  BANK_ACCOUNTS_TRANSACTION AS t\n",
        "ON\n",
        "  a.account_number = t.account_number\n",
        "WHERE\n",
        "  STRFTIME('%m', t.transaction_date) BETWEEN '01' AND '03'\n",
        "ORDER BY\n",
        "  a.customer_id, t.transaction_date;\n",
        "\"\"\"\n",
        "cursor.execute(query)\n",
        "rows = cursor.fetchall()\n",
        "column_names = [desc[0] for desc in cursor.description]\n",
        "from tabulate import tabulate\n",
        "print(tabulate(rows, headers=column_names, tablefmt=\"grid\"))"
      ],
      "metadata": {
        "colab": {
          "base_uri": "https://localhost:8080/"
        },
        "id": "066hlNlovbBJ",
        "outputId": "1e58cd49-9a38-4ba2-c194-c355f339540a"
      },
      "execution_count": null,
      "outputs": [
        {
          "output_type": "stream",
          "name": "stdout",
          "text": [
            "+---------------+---------------------+------------------+----------------------+--------------------+\n",
            "|   Customer_id | ACCOUNT_NUMBER      |   Balance_amount |   TRANSACTION_AMOUNT | TRANSACTION_DATE   |\n",
            "+===============+=====================+==================+======================+====================+\n",
            "|        123001 | 4000-1956-3456      |           200000 |                -2000 | 2020-01-13         |\n",
            "+---------------+---------------------+------------------+----------------------+--------------------+\n",
            "|        123002 | 4000-1956-2001      |           400000 |                -1600 | 2020-01-19         |\n",
            "+---------------+---------------------+------------------+----------------------+--------------------+\n",
            "|        123002 | 4000-1956-2001      |           400000 |                -4000 | 2020-02-14         |\n",
            "+---------------+---------------------+------------------+----------------------+--------------------+\n",
            "|        123002 | 4000-1956-2001      |           400000 |                23000 | 2020-03-15         |\n",
            "+---------------+---------------------+------------------+----------------------+--------------------+\n",
            "|        123002 | 4000-1956-2001      |           400000 |                -6000 | 2020-03-23         |\n",
            "+---------------+---------------------+------------------+----------------------+--------------------+\n",
            "|        123004 | 4000-1956-3401      |           655000 |                 8000 | 2020-01-19         |\n",
            "+---------------+---------------------+------------------+----------------------+--------------------+\n",
            "|        123004 | 5000-1700-6091      |          7500000 |                40000 | 2020-02-19         |\n",
            "+---------------+---------------------+------------------+----------------------+--------------------+\n",
            "|        123005 | 4000-1956-5102      |           300000 |                -6500 | 2020-03-14         |\n",
            "+---------------+---------------------+------------------+----------------------+--------------------+\n",
            "|        123006 | 5890-1970-7706-8912 |                0 |               -11000 | 2020-03-12         |\n",
            "+---------------+---------------------+------------------+----------------------+--------------------+\n",
            "|        123006 | 4000-1956-5698      |           455000 |                -9000 | 2020-03-27         |\n",
            "+---------------+---------------------+------------------+----------------------+--------------------+\n",
            "|        123007 | 4000-1956-9977      |          7025000 |                50000 | 2020-01-16         |\n",
            "+---------------+---------------------+------------------+----------------------+--------------------+\n",
            "|        123007 | 9000-1700-7777-4321 |                0 |                -5000 | 2020-02-17         |\n",
            "+---------------+---------------------+------------------+----------------------+--------------------+\n",
            "|        123007 | 9000-1700-7777-4321 |                0 |                -8000 | 2020-03-13         |\n",
            "+---------------+---------------------+------------------+----------------------+--------------------+\n"
          ]
        }
      ]
    },
    {
      "cell_type": "markdown",
      "source": [
        "6.Print account_number, Event and Customer_message from BANK_CUSTOMER_MESSAGES and Bank_Account_Details to display an “Adhoc\" Event for all customers who have “SAVINGS\" account_type account.(8 Rows)"
      ],
      "metadata": {
        "id": "GtxendGcv6Rv"
      }
    },
    {
      "cell_type": "code",
      "source": [
        "query = \"\"\"\n",
        "SELECT\n",
        "    b.Account_Number,\n",
        "    m.Event,\n",
        "    m.Customer_message\n",
        "FROM\n",
        "    BANK_ACCOUNT_DETAILS b\n",
        "JOIN\n",
        "    BANK_CUSTOMER_MESSAGES m\n",
        "WHERE\n",
        "    b.Account_type = 'SAVINGS'\n",
        "    AND m.Event = 'Adhoc';\n",
        "\"\"\"\n",
        "cursor.execute(query)\n",
        "rows = cursor.fetchall()\n",
        "column_names = [desc[0] for desc in cursor.description]\n",
        "from tabulate import tabulate\n",
        "print(tabulate(rows, headers=column_names, tablefmt=\"grid\"))"
      ],
      "metadata": {
        "colab": {
          "base_uri": "https://localhost:8080/"
        },
        "id": "t0thI1Phv7vz",
        "outputId": "c68f5a2d-e112-46fd-ab71-7740e9bed787"
      },
      "execution_count": null,
      "outputs": [
        {
          "output_type": "stream",
          "name": "stdout",
          "text": [
            "+------------------+---------+-------------------------------------------------------------+\n",
            "| Account_Number   | EVENT   | CUSTOMER_MESSAGE                                            |\n",
            "+==================+=========+=============================================================+\n",
            "| 4000-1956-3456   | Adhoc   | All Banks are closed due to announcement of National strike |\n",
            "+------------------+---------+-------------------------------------------------------------+\n",
            "| 4000-1956-3456   | Adhoc   | All Banks are closed due to announcement of National strike |\n",
            "+------------------+---------+-------------------------------------------------------------+\n",
            "| 4000-1956-2001   | Adhoc   | All Banks are closed due to announcement of National strike |\n",
            "+------------------+---------+-------------------------------------------------------------+\n",
            "| 4000-1956-2001   | Adhoc   | All Banks are closed due to announcement of National strike |\n",
            "+------------------+---------+-------------------------------------------------------------+\n",
            "| 4000-1956-2900   | Adhoc   | All Banks are closed due to announcement of National strike |\n",
            "+------------------+---------+-------------------------------------------------------------+\n",
            "| 4000-1956-2900   | Adhoc   | All Banks are closed due to announcement of National strike |\n",
            "+------------------+---------+-------------------------------------------------------------+\n",
            "| 4000-1956-3401   | Adhoc   | All Banks are closed due to announcement of National strike |\n",
            "+------------------+---------+-------------------------------------------------------------+\n",
            "| 4000-1956-3401   | Adhoc   | All Banks are closed due to announcement of National strike |\n",
            "+------------------+---------+-------------------------------------------------------------+\n",
            "| 4000-1956-5102   | Adhoc   | All Banks are closed due to announcement of National strike |\n",
            "+------------------+---------+-------------------------------------------------------------+\n",
            "| 4000-1956-5102   | Adhoc   | All Banks are closed due to announcement of National strike |\n",
            "+------------------+---------+-------------------------------------------------------------+\n",
            "| 4000-1956-5698   | Adhoc   | All Banks are closed due to announcement of National strike |\n",
            "+------------------+---------+-------------------------------------------------------------+\n",
            "| 4000-1956-5698   | Adhoc   | All Banks are closed due to announcement of National strike |\n",
            "+------------------+---------+-------------------------------------------------------------+\n",
            "| 5000-1700-9800   | Adhoc   | All Banks are closed due to announcement of National strike |\n",
            "+------------------+---------+-------------------------------------------------------------+\n",
            "| 5000-1700-9800   | Adhoc   | All Banks are closed due to announcement of National strike |\n",
            "+------------------+---------+-------------------------------------------------------------+\n",
            "| 5000-1700-7755   | Adhoc   | All Banks are closed due to announcement of National strike |\n",
            "+------------------+---------+-------------------------------------------------------------+\n",
            "| 5000-1700-7755   | Adhoc   | All Banks are closed due to announcement of National strike |\n",
            "+------------------+---------+-------------------------------------------------------------+\n"
          ]
        }
      ]
    },
    {
      "cell_type": "markdown",
      "source": [
        "7.Print all Customer_id, Account_Number, Account_type, and display deducted balance_amount by subtracting only negative transaction_amounts for Relationship_type =\"P\" ( P - means Primary , S - means Secondary ) .(27 Rows)"
      ],
      "metadata": {
        "id": "MMdeMY-gwJlz"
      }
    },
    {
      "cell_type": "code",
      "source": [
        "query = \"\"\"\n",
        "SELECT\n",
        "    a.customer_id,\n",
        "    a.account_number,\n",
        "    a.account_type,\n",
        "    CASE\n",
        "        WHEN b.Transaction_amount < 0 THEN a.balance_amount + b.Transaction_amount\n",
        "        ELSE a.balance_amount\n",
        "    END AS deducted_balance_amount\n",
        "FROM\n",
        "    BANK_ACCOUNT_DETAILS a\n",
        "JOIN\n",
        "    BANK_ACCOUNTS_TRANSACTION b ON a.account_number = b.account_number\n",
        "WHERE\n",
        "    a.relationship_type = 'P';\n",
        "\"\"\"\n",
        "cursor.execute(query)\n",
        "rows = cursor.fetchall()\n",
        "column_names = [desc[0] for desc in cursor.description]\n",
        "from tabulate import tabulate\n",
        "print(tabulate(rows, headers=column_names, tablefmt=\"grid\"))"
      ],
      "metadata": {
        "colab": {
          "base_uri": "https://localhost:8080/"
        },
        "id": "viH25hzhwL3j",
        "outputId": "16204f59-38d2-4def-c6f0-593096efcdc9"
      },
      "execution_count": null,
      "outputs": [
        {
          "output_type": "stream",
          "name": "stdout",
          "text": [
            "+---------------+---------------------+----------------+---------------------------+\n",
            "|   Customer_id | Account_Number      | Account_type   |   deducted_balance_amount |\n",
            "+===============+=====================+================+===========================+\n",
            "|        123001 | 4000-1956-3456      | SAVINGS        |                    198000 |\n",
            "+---------------+---------------------+----------------+---------------------------+\n",
            "|        123002 | 4000-1956-2001      | SAVINGS        |                    394000 |\n",
            "+---------------+---------------------+----------------+---------------------------+\n",
            "|        123002 | 4000-1956-2001      | SAVINGS        |                    396000 |\n",
            "+---------------+---------------------+----------------+---------------------------+\n",
            "|        123002 | 4000-1956-2001      | SAVINGS        |                    397000 |\n",
            "+---------------+---------------------+----------------+---------------------------+\n",
            "|        123002 | 4000-1956-2001      | SAVINGS        |                    398400 |\n",
            "+---------------+---------------------+----------------+---------------------------+\n",
            "|        123002 | 4000-1956-2001      | SAVINGS        |                    400000 |\n",
            "+---------------+---------------------+----------------+---------------------------+\n",
            "|        123004 | 4000-1956-3401      | SAVINGS        |                    655000 |\n",
            "+---------------+---------------------+----------------+---------------------------+\n",
            "|        123005 | 4000-1956-5102      | SAVINGS        |                    293500 |\n",
            "+---------------+---------------------+----------------+---------------------------+\n",
            "|        123006 | 4000-1956-5698      | SAVINGS        |                    446000 |\n",
            "+---------------+---------------------+----------------+---------------------------+\n",
            "|        123007 | 9000-1700-7777-4321 | Credit Card    |                     -8000 |\n",
            "+---------------+---------------------+----------------+---------------------------+\n",
            "|        123007 | 9000-1700-7777-4321 | Credit Card    |                     -5000 |\n",
            "+---------------+---------------------+----------------+---------------------------+\n",
            "|        123007 | 9000-1700-7777-4321 | Credit Card    |                     -2500 |\n",
            "+---------------+---------------------+----------------+---------------------------+\n",
            "|        123006 | 5800-1700-9800-7755 | Credit Card    |                     -9000 |\n",
            "+---------------+---------------------+----------------+---------------------------+\n"
          ]
        }
      ]
    },
    {
      "cell_type": "markdown",
      "source": [
        "\n",
        "8.a) Display records of All Accounts , their Account_types, the transaction amount.\n",
        "\n",
        "8.b) Along with first step, Display other columns with corresponding linking account number, account types (15 Rows)"
      ],
      "metadata": {
        "id": "OA0Ia6W-wm1r"
      }
    },
    {
      "cell_type": "code",
      "source": [
        "# display records of all accounts, their Account_types, the transaction amount\n",
        "query = \"\"\"\n",
        "SELECT\n",
        "    a.Account_Number,\n",
        "    a.Account_type ,\n",
        "    t.Transaction_amount\n",
        "FROM\n",
        "    Bank_Account_Details a\n",
        "JOIN\n",
        "    BANK_ACCOUNTS_TRANSACTION t ON a.Account_Number = t.Account_Number  ;\n",
        "\"\"\"\n",
        "cursor.execute(query)\n",
        "rows = cursor.fetchall()\n",
        "column_names = [desc[0] for desc in cursor.description]\n",
        "from tabulate import tabulate\n",
        "print(tabulate(rows, headers=column_names, tablefmt=\"grid\"))"
      ],
      "metadata": {
        "colab": {
          "base_uri": "https://localhost:8080/"
        },
        "id": "jrGBAiEOwoAj",
        "outputId": "d399a9c2-2844-43c5-d852-2dfd928cc34b"
      },
      "execution_count": null,
      "outputs": [
        {
          "output_type": "stream",
          "name": "stdout",
          "text": [
            "+---------------------+--------------------+----------------------+\n",
            "| Account_Number      | Account_type       |   TRANSACTION_AMOUNT |\n",
            "+=====================+====================+======================+\n",
            "| 4000-1956-3456      | SAVINGS            |                -2000 |\n",
            "+---------------------+--------------------+----------------------+\n",
            "| 4000-1956-2001      | SAVINGS            |                -6000 |\n",
            "+---------------------+--------------------+----------------------+\n",
            "| 4000-1956-2001      | SAVINGS            |                -4000 |\n",
            "+---------------------+--------------------+----------------------+\n",
            "| 4000-1956-2001      | SAVINGS            |                -3000 |\n",
            "+---------------------+--------------------+----------------------+\n",
            "| 4000-1956-2001      | SAVINGS            |                -1600 |\n",
            "+---------------------+--------------------+----------------------+\n",
            "| 4000-1956-2001      | SAVINGS            |                23000 |\n",
            "+---------------------+--------------------+----------------------+\n",
            "| 5000-1700-6091      | RECURRING DEPOSITS |                40000 |\n",
            "+---------------------+--------------------+----------------------+\n",
            "| 4000-1956-3401      | SAVINGS            |                 8000 |\n",
            "+---------------------+--------------------+----------------------+\n",
            "| 4000-1956-5102      | SAVINGS            |                -6500 |\n",
            "+---------------------+--------------------+----------------------+\n",
            "| 4000-1956-5698      | SAVINGS            |                -9000 |\n",
            "+---------------------+--------------------+----------------------+\n",
            "| 4000-1956-9977      | RECURRING DEPOSITS |                50000 |\n",
            "+---------------------+--------------------+----------------------+\n",
            "| 9000-1700-7777-4321 | Credit Card        |                -8000 |\n",
            "+---------------------+--------------------+----------------------+\n",
            "| 9000-1700-7777-4321 | Credit Card        |                -5000 |\n",
            "+---------------------+--------------------+----------------------+\n",
            "| 9000-1700-7777-4321 | Credit Card        |                -2500 |\n",
            "+---------------------+--------------------+----------------------+\n",
            "| 5800-1700-9800-7755 | Credit Card        |                -9000 |\n",
            "+---------------------+--------------------+----------------------+\n",
            "| 5890-1970-7706-8912 | Add-on Credit Card |               -11000 |\n",
            "+---------------------+--------------------+----------------------+\n"
          ]
        }
      ]
    },
    {
      "cell_type": "code",
      "source": [
        "# Along with first step, Display other columns with corresponding linking account number, account types\n",
        "query = \"\"\"\n",
        "SELECT\n",
        "    a.Account_Number,\n",
        "    a.Account_type,\n",
        "    b.Linking_Account_Number\n",
        "FROM\n",
        "    Bank_Account_Details AS a\n",
        "LEFT JOIN\n",
        "    Bank_Account_Relationships_Details AS b ON a.Account_Number = b.Account_Number;\n",
        "\"\"\"\n",
        "cursor.execute(query)\n",
        "rows = cursor.fetchall()\n",
        "column_names = [desc[0] for desc in cursor.description]\n",
        "from tabulate import tabulate\n",
        "print(tabulate(rows, headers=column_names, tablefmt=\"grid\"))"
      ],
      "metadata": {
        "colab": {
          "base_uri": "https://localhost:8080/"
        },
        "id": "iFL8umrRw31E",
        "outputId": "a49a19f6-d9cd-47ae-e776-07c30177b721"
      },
      "execution_count": null,
      "outputs": [
        {
          "output_type": "stream",
          "name": "stdout",
          "text": [
            "+---------------------+--------------------+--------------------------+\n",
            "| Account_Number      | Account_type       | LINKING_ACCOUNT_NUMBER   |\n",
            "+=====================+====================+==========================+\n",
            "| 4000-1956-3456      | SAVINGS            |                          |\n",
            "+---------------------+--------------------+--------------------------+\n",
            "| 5000-1700-3456      | RECURRING DEPOSITS | 4000-1956-3456           |\n",
            "+---------------------+--------------------+--------------------------+\n",
            "| 4000-1956-2001      | SAVINGS            |                          |\n",
            "+---------------------+--------------------+--------------------------+\n",
            "| 5000-1700-5001      | RECURRING DEPOSITS | 4000-1956-2001           |\n",
            "+---------------------+--------------------+--------------------------+\n",
            "| 4000-1956-2900      | SAVINGS            |                          |\n",
            "+---------------------+--------------------+--------------------------+\n",
            "| 5000-1700-6091      | RECURRING DEPOSITS | 4000-1956-2900           |\n",
            "+---------------------+--------------------+--------------------------+\n",
            "| 4000-1956-3401      | SAVINGS            |                          |\n",
            "+---------------------+--------------------+--------------------------+\n",
            "| 4000-1956-5102      | SAVINGS            |                          |\n",
            "+---------------------+--------------------+--------------------------+\n",
            "| 4000-1956-5698      | SAVINGS            |                          |\n",
            "+---------------------+--------------------+--------------------------+\n",
            "| 5000-1700-9800      | SAVINGS            |                          |\n",
            "+---------------------+--------------------+--------------------------+\n",
            "| 4000-1956-9977      | RECURRING DEPOSITS | 5000-1700-9800           |\n",
            "+---------------------+--------------------+--------------------------+\n",
            "| 9000-1700-7777-4321 | Credit Card        | 5000-1700-9800           |\n",
            "+---------------------+--------------------+--------------------------+\n",
            "| 5900-1900-9877-5543 | Add-on Credit Card | 9000-1700-7777-4321      |\n",
            "+---------------------+--------------------+--------------------------+\n",
            "| 5000-1700-7755      | SAVINGS            |                          |\n",
            "+---------------------+--------------------+--------------------------+\n",
            "| 5800-1700-9800-7755 | Credit Card        | 4000-1956-5698           |\n",
            "+---------------------+--------------------+--------------------------+\n",
            "| 5890-1970-7706-8912 | Add-on Credit Card | 5800-1700-9800-7755      |\n",
            "+---------------------+--------------------+--------------------------+\n"
          ]
        }
      ]
    },
    {
      "cell_type": "markdown",
      "source": [
        "9.a) Display records of All Accounts , their Account_types, the transaction amount.\n",
        "\n",
        "9.b) Along with first step, Display other columns with corresponding linking account number, account types\n",
        "\n",
        "9.c) After retrieving all records of accounts and their linked accounts, display the transaction amount of accounts appeared in another column.(26 Rows)"
      ],
      "metadata": {
        "id": "GdStPl4cxLgq"
      }
    },
    {
      "cell_type": "code",
      "source": [
        "# Along with first step, Display other columns with corresponding linking account number, account types\n",
        "query = \"\"\"\n",
        "SELECT\n",
        "    a.customer_id,\n",
        "    a.Account_Number,\n",
        "    a.Account_type,\n",
        "    b.Linking_Account_Number\n",
        "    FROM\n",
        "    BANK_ACCOUNT_DETAILS AS a\n",
        "LEFT JOIN\n",
        "    BANK_ACCOUNT_RELATIONSHIP_DETAILS AS b ON a.account_number = b.account_number;\n",
        "\"\"\"\n",
        "cursor.execute(query)\n",
        "rows = cursor.fetchall()\n",
        "column_names = [desc[0] for desc in cursor.description]\n",
        "from tabulate import tabulate\n",
        "print(tabulate(rows, headers=column_names, tablefmt=\"grid\"))"
      ],
      "metadata": {
        "colab": {
          "base_uri": "https://localhost:8080/"
        },
        "id": "tfYPg9YoxLFf",
        "outputId": "60efa377-1d52-499b-c51e-e2b01b53e162"
      },
      "execution_count": null,
      "outputs": [
        {
          "output_type": "stream",
          "name": "stdout",
          "text": [
            "+---------------+---------------------+--------------------+--------------------------+\n",
            "|   Customer_id | Account_Number      | Account_type       | Linking_Account_Number   |\n",
            "+===============+=====================+====================+==========================+\n",
            "|        123001 | 4000-1956-3456      | SAVINGS            |                          |\n",
            "+---------------+---------------------+--------------------+--------------------------+\n",
            "|        123001 | 5000-1700-3456      | RECURRING DEPOSITS | 4000-1956-3456           |\n",
            "+---------------+---------------------+--------------------+--------------------------+\n",
            "|        123002 | 4000-1956-2001      | SAVINGS            |                          |\n",
            "+---------------+---------------------+--------------------+--------------------------+\n",
            "|        123002 | 5000-1700-5001      | RECURRING DEPOSITS | 4000-1956-2001           |\n",
            "+---------------+---------------------+--------------------+--------------------------+\n",
            "|        123003 | 4000-1956-2900      | SAVINGS            |                          |\n",
            "+---------------+---------------------+--------------------+--------------------------+\n",
            "|        123004 | 5000-1700-6091      | RECURRING DEPOSITS | 4000-1956-2900           |\n",
            "+---------------+---------------------+--------------------+--------------------------+\n",
            "|        123004 | 4000-1956-3401      | SAVINGS            |                          |\n",
            "+---------------+---------------------+--------------------+--------------------------+\n",
            "|        123005 | 4000-1956-5102      | SAVINGS            |                          |\n",
            "+---------------+---------------------+--------------------+--------------------------+\n",
            "|        123006 | 4000-1956-5698      | SAVINGS            |                          |\n",
            "+---------------+---------------------+--------------------+--------------------------+\n",
            "|        123007 | 5000-1700-9800      | SAVINGS            |                          |\n",
            "+---------------+---------------------+--------------------+--------------------------+\n",
            "|        123007 | 4000-1956-9977      | RECURRING DEPOSITS | 5000-1700-9800           |\n",
            "+---------------+---------------------+--------------------+--------------------------+\n",
            "|        123007 | 9000-1700-7777-4321 | Credit Card        | 5000-1700-9800           |\n",
            "+---------------+---------------------+--------------------+--------------------------+\n",
            "|        123007 | 5900-1900-9877-5543 | Add-on Credit Card | 9000-1700-7777-4321      |\n",
            "+---------------+---------------------+--------------------+--------------------------+\n",
            "|        123008 | 5000-1700-7755      | SAVINGS            |                          |\n",
            "+---------------+---------------------+--------------------+--------------------------+\n",
            "|        123006 | 5800-1700-9800-7755 | Credit Card        | 4000-1956-5698           |\n",
            "+---------------+---------------------+--------------------+--------------------------+\n",
            "|        123006 | 5890-1970-7706-8912 | Add-on Credit Card | 5800-1700-9800-7755      |\n",
            "+---------------+---------------------+--------------------+--------------------------+\n"
          ]
        }
      ]
    },
    {
      "cell_type": "code",
      "source": [],
      "metadata": {
        "id": "GTTqrbs8xXV9"
      },
      "execution_count": null,
      "outputs": []
    },
    {
      "cell_type": "code",
      "source": [
        "# After retrieving all records of accounts and their linked accounts, display the transaction amount of accounts appeared in another column.\n",
        "query = \"\"\"\n",
        "    SELECT\n",
        "        a.customer_id,\n",
        "        a.Account_Number,\n",
        "        a.Account_type,\n",
        "        b.Linking_Account_Number,\n",
        "        t.Transaction_amount\n",
        "    FROM\n",
        "        BANK_ACCOUNT_DETAILS AS a\n",
        "    LEFT JOIN\n",
        "        BANK_ACCOUNT_RELATIONSHIP_DETAILS AS b ON a.account_number = b.account_number\n",
        "    LEFT JOIN\n",
        "        BANK_ACCOUNTS_TRANSACTION AS t ON a.account_number = t.account_number;\n",
        "\"\"\"\n",
        "cursor.execute(query)\n",
        "rows = cursor.fetchall()\n",
        "column_names = [desc[0] for desc in cursor.description]\n",
        "from tabulate import tabulate\n",
        "print(tabulate(rows, headers=column_names, tablefmt=\"grid\"))"
      ],
      "metadata": {
        "id": "WRg3InJiq760",
        "colab": {
          "base_uri": "https://localhost:8080/"
        },
        "collapsed": true,
        "outputId": "56dc6dfb-4c58-4685-e49f-324112b516da"
      },
      "execution_count": null,
      "outputs": [
        {
          "output_type": "stream",
          "name": "stdout",
          "text": [
            "+---------------+---------------------+--------------------+--------------------------+----------------------+\n",
            "|   Customer_id | Account_Number      | Account_type       | Linking_Account_Number   |   TRANSACTION_AMOUNT |\n",
            "+===============+=====================+====================+==========================+======================+\n",
            "|        123001 | 4000-1956-3456      | SAVINGS            |                          |                -2000 |\n",
            "+---------------+---------------------+--------------------+--------------------------+----------------------+\n",
            "|        123001 | 5000-1700-3456      | RECURRING DEPOSITS | 4000-1956-3456           |                      |\n",
            "+---------------+---------------------+--------------------+--------------------------+----------------------+\n",
            "|        123002 | 4000-1956-2001      | SAVINGS            |                          |                -6000 |\n",
            "+---------------+---------------------+--------------------+--------------------------+----------------------+\n",
            "|        123002 | 4000-1956-2001      | SAVINGS            |                          |                -4000 |\n",
            "+---------------+---------------------+--------------------+--------------------------+----------------------+\n",
            "|        123002 | 4000-1956-2001      | SAVINGS            |                          |                -3000 |\n",
            "+---------------+---------------------+--------------------+--------------------------+----------------------+\n",
            "|        123002 | 4000-1956-2001      | SAVINGS            |                          |                -1600 |\n",
            "+---------------+---------------------+--------------------+--------------------------+----------------------+\n",
            "|        123002 | 4000-1956-2001      | SAVINGS            |                          |                23000 |\n",
            "+---------------+---------------------+--------------------+--------------------------+----------------------+\n",
            "|        123002 | 5000-1700-5001      | RECURRING DEPOSITS | 4000-1956-2001           |                      |\n",
            "+---------------+---------------------+--------------------+--------------------------+----------------------+\n",
            "|        123003 | 4000-1956-2900      | SAVINGS            |                          |                      |\n",
            "+---------------+---------------------+--------------------+--------------------------+----------------------+\n",
            "|        123004 | 5000-1700-6091      | RECURRING DEPOSITS | 4000-1956-2900           |                40000 |\n",
            "+---------------+---------------------+--------------------+--------------------------+----------------------+\n",
            "|        123004 | 4000-1956-3401      | SAVINGS            |                          |                 8000 |\n",
            "+---------------+---------------------+--------------------+--------------------------+----------------------+\n",
            "|        123005 | 4000-1956-5102      | SAVINGS            |                          |                -6500 |\n",
            "+---------------+---------------------+--------------------+--------------------------+----------------------+\n",
            "|        123006 | 4000-1956-5698      | SAVINGS            |                          |                -9000 |\n",
            "+---------------+---------------------+--------------------+--------------------------+----------------------+\n",
            "|        123007 | 5000-1700-9800      | SAVINGS            |                          |                      |\n",
            "+---------------+---------------------+--------------------+--------------------------+----------------------+\n",
            "|        123007 | 4000-1956-9977      | RECURRING DEPOSITS | 5000-1700-9800           |                50000 |\n",
            "+---------------+---------------------+--------------------+--------------------------+----------------------+\n",
            "|        123007 | 9000-1700-7777-4321 | Credit Card        | 5000-1700-9800           |                -8000 |\n",
            "+---------------+---------------------+--------------------+--------------------------+----------------------+\n",
            "|        123007 | 9000-1700-7777-4321 | Credit Card        | 5000-1700-9800           |                -5000 |\n",
            "+---------------+---------------------+--------------------+--------------------------+----------------------+\n",
            "|        123007 | 9000-1700-7777-4321 | Credit Card        | 5000-1700-9800           |                -2500 |\n",
            "+---------------+---------------------+--------------------+--------------------------+----------------------+\n",
            "|        123007 | 5900-1900-9877-5543 | Add-on Credit Card | 9000-1700-7777-4321      |                      |\n",
            "+---------------+---------------------+--------------------+--------------------------+----------------------+\n",
            "|        123008 | 5000-1700-7755      | SAVINGS            |                          |                      |\n",
            "+---------------+---------------------+--------------------+--------------------------+----------------------+\n",
            "|        123006 | 5800-1700-9800-7755 | Credit Card        | 4000-1956-5698           |                -9000 |\n",
            "+---------------+---------------------+--------------------+--------------------------+----------------------+\n",
            "|        123006 | 5890-1970-7706-8912 | Add-on Credit Card | 5800-1700-9800-7755      |               -11000 |\n",
            "+---------------+---------------------+--------------------+--------------------------+----------------------+\n"
          ]
        }
      ]
    },
    {
      "cell_type": "markdown",
      "source": [
        "10.Display all saving account holders have “Add-on Credit Cards\" and “Credit cards\" (3 Rows)"
      ],
      "metadata": {
        "id": "0xYXjTslxkjE"
      }
    },
    {
      "cell_type": "code",
      "source": [
        "query = \"\"\"\n",
        "SELECT\n",
        "    c.customer_id,\n",
        "    c.customer_name\n",
        "FROM CUSTOMERS c\n",
        "JOIN BANK_Account_Details a ON c.customer_id = a.customer_id\n",
        "WHERE a.account_type IN ('SAVINGS','Credit Card')\n",
        "GROUP BY c.customer_id, c.customer_name\n",
        "HAVING COUNT(DISTINCT a.account_type) = 2\n",
        "\"\"\"\n",
        "cursor.execute(query)\n",
        "rows = cursor.fetchall()\n",
        "column_names = [desc[0] for desc in cursor.description]\n",
        "from tabulate import tabulate\n",
        "print(tabulate(rows, headers=column_names, tablefmt=\"grid\"))"
      ],
      "metadata": {
        "colab": {
          "base_uri": "https://localhost:8080/"
        },
        "id": "P0_xTXTaxkPc",
        "outputId": "d7a3986d-3a3d-4d1a-9591-ae2649f8d60d"
      },
      "execution_count": null,
      "outputs": [
        {
          "output_type": "stream",
          "name": "stdout",
          "text": [
            "+---------------+-----------------+\n",
            "|   customer_id | customer_name   |\n",
            "+===============+=================+\n",
            "|        123006 | JYOTHISWAR      |\n",
            "+---------------+-----------------+\n",
            "|        123007 | URVISH          |\n",
            "+---------------+-----------------+\n"
          ]
        }
      ]
    },
    {
      "cell_type": "markdown",
      "source": [
        "11.Display records of “SAVINGS” account linked with “Credit cards\" account_type and its credit aggregate sum of transaction amount. (1 Row)\n",
        "Ref: Check linking relationship in bank_transaction_relationship_details.\n",
        "\n",
        "Check transaction_amount in bank_account_transaction."
      ],
      "metadata": {
        "id": "mGHbDJX5xwYZ"
      }
    },
    {
      "cell_type": "code",
      "source": [
        "# Display records of “SAVINGS” account linked with “Credit cards\" account_type and its credit aggregate sum of transaction amount. (1 Row)\n",
        "query = \"\"\"\n",
        "SELECT\n",
        "    a.Account_Number,\n",
        "    SUM(t.Transaction_amount) AS total_transaction_amount\n",
        "FROM Bank_Account_Detail a\n",
        "JOIN BANK_ACCOUNTS_TRANSACTION t ON a.Account_Number = t.Account_Number\n",
        "JOIN BANK_ACCOUNT_RELATIONSHIPS_DETAILS r ON a.Account_Number = r.Linking_Account_Number\n",
        "WHERE a.Account_type = 'SAVINGS' AND r.Account_type = 'Credit Card'\n",
        "GROUP BY a.Account_Number;\n",
        "\"\"\"\n",
        "cursor.execute(query)\n",
        "rows = cursor.fetchall()\n",
        "column_names = [desc[0] for desc in cursor.description]\n",
        "from tabulate import tabulate\n",
        "print(tabulate(rows, headers=column_names, tablefmt=\"grid\"))"
      ],
      "metadata": {
        "colab": {
          "base_uri": "https://localhost:8080/"
        },
        "id": "o7kBPA3Xxv33",
        "outputId": "afdae031-73c5-4a9d-fe84-017c6040d0d0"
      },
      "execution_count": null,
      "outputs": [
        {
          "output_type": "stream",
          "name": "stdout",
          "text": [
            "+------------------+----------------------------+\n",
            "| Account_Number   |   total_transaction_amount |\n",
            "+==================+============================+\n",
            "| 4000-1956-5698   |                      -9000 |\n",
            "+------------------+----------------------------+\n"
          ]
        }
      ]
    }
  ]
}